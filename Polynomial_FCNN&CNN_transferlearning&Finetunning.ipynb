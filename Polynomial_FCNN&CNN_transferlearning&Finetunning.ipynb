{
  "nbformat": 4,
  "nbformat_minor": 0,
  "metadata": {
    "colab": {
      "provenance": [],
      "authorship_tag": "ABX9TyO95Trb+M2gGrrFxcHDK7UK",
      "include_colab_link": true
    },
    "kernelspec": {
      "name": "python3",
      "display_name": "Python 3"
    },
    "language_info": {
      "name": "python"
    }
  },
  "cells": [
    {
      "cell_type": "markdown",
      "metadata": {
        "id": "view-in-github",
        "colab_type": "text"
      },
      "source": [
        "<a href=\"https://colab.research.google.com/github/fouzia1146/AI/blob/main/Polynomial_FCNN%26CNN_transferlearning%26Finetunning.ipynb\" target=\"_parent\"><img src=\"https://colab.research.google.com/assets/colab-badge.svg\" alt=\"Open In Colab\"/></a>"
      ]
    },
    {
      "cell_type": "markdown",
      "source": [
        "Implement a simple deep neural network (DNN) for solving the polynomial equation y=5x3-10x2-20x+10 with the following specifications:\n",
        "\n",
        "a)Use three hidden-layers of sizes 32, 64, and 128 and display the generated DNN with the required number of parameters.\n",
        "\n",
        "b)Generate training samples within the range of -20 to +20. Use an appropriate method for normalizing the training data in the range of -1 to +1.\n",
        "\n",
        "c)Use 5% of the samples as test data and 5% of the samples as validation data and the rest of the data for training the DNN with an appropriate number of epochs.\n",
        "\n",
        "d)Display the training accuracy vs validation accuracy and training error vs validation error curves.\n"
      ],
      "metadata": {
        "id": "Resm8MWP66h6"
      }
    },
    {
      "cell_type": "code",
      "execution_count": null,
      "metadata": {
        "colab": {
          "base_uri": "https://localhost:8080/",
          "height": 1000
        },
        "id": "kphQYfESrwLP",
        "outputId": "70d03cb0-3c25-4bfe-c058-46eb82ff4f24"
      },
      "outputs": [
        {
          "output_type": "stream",
          "name": "stdout",
          "text": [
            "Epoch 1/100\n",
            "\u001b[1m29/29\u001b[0m \u001b[32m━━━━━━━━━━━━━━━━━━━━\u001b[0m\u001b[37m\u001b[0m \u001b[1m5s\u001b[0m 45ms/step - loss: 217878080.0000 - mae: 9710.7988 - val_loss: 250941440.0000 - val_mae: 10533.2490\n",
            "Epoch 2/100\n",
            "\u001b[1m29/29\u001b[0m \u001b[32m━━━━━━━━━━━━━━━━━━━━\u001b[0m\u001b[37m\u001b[0m \u001b[1m1s\u001b[0m 5ms/step - loss: 226611296.0000 - mae: 10040.7578 - val_loss: 250846704.0000 - val_mae: 10530.1104\n",
            "Epoch 3/100\n",
            "\u001b[1m29/29\u001b[0m \u001b[32m━━━━━━━━━━━━━━━━━━━━\u001b[0m\u001b[37m\u001b[0m \u001b[1m0s\u001b[0m 5ms/step - loss: 252153920.0000 - mae: 10496.5732 - val_loss: 250536688.0000 - val_mae: 10519.7754\n",
            "Epoch 4/100\n",
            "\u001b[1m29/29\u001b[0m \u001b[32m━━━━━━━━━━━━━━━━━━━━\u001b[0m\u001b[37m\u001b[0m \u001b[1m0s\u001b[0m 5ms/step - loss: 246273984.0000 - mae: 10572.9199 - val_loss: 249657760.0000 - val_mae: 10490.3936\n",
            "Epoch 5/100\n",
            "\u001b[1m29/29\u001b[0m \u001b[32m━━━━━━━━━━━━━━━━━━━━\u001b[0m\u001b[37m\u001b[0m \u001b[1m0s\u001b[0m 5ms/step - loss: 227886656.0000 - mae: 9723.6416 - val_loss: 247615360.0000 - val_mae: 10423.5742\n",
            "Epoch 6/100\n",
            "\u001b[1m29/29\u001b[0m \u001b[32m━━━━━━━━━━━━━━━━━━━━\u001b[0m\u001b[37m\u001b[0m \u001b[1m0s\u001b[0m 7ms/step - loss: 217080992.0000 - mae: 9701.1016 - val_loss: 243628608.0000 - val_mae: 10295.9629\n",
            "Epoch 7/100\n",
            "\u001b[1m29/29\u001b[0m \u001b[32m━━━━━━━━━━━━━━━━━━━━\u001b[0m\u001b[37m\u001b[0m \u001b[1m0s\u001b[0m 11ms/step - loss: 233734432.0000 - mae: 10174.8643 - val_loss: 236611344.0000 - val_mae: 10073.9463\n",
            "Epoch 8/100\n",
            "\u001b[1m29/29\u001b[0m \u001b[32m━━━━━━━━━━━━━━━━━━━━\u001b[0m\u001b[37m\u001b[0m \u001b[1m1s\u001b[0m 8ms/step - loss: 213239840.0000 - mae: 9385.1963 - val_loss: 225882848.0000 - val_mae: 9746.9072\n",
            "Epoch 9/100\n",
            "\u001b[1m29/29\u001b[0m \u001b[32m━━━━━━━━━━━━━━━━━━━━\u001b[0m\u001b[37m\u001b[0m \u001b[1m0s\u001b[0m 8ms/step - loss: 204071728.0000 - mae: 8993.0029 - val_loss: 210971568.0000 - val_mae: 9284.3760\n",
            "Epoch 10/100\n",
            "\u001b[1m29/29\u001b[0m \u001b[32m━━━━━━━━━━━━━━━━━━━━\u001b[0m\u001b[37m\u001b[0m \u001b[1m0s\u001b[0m 7ms/step - loss: 184266512.0000 - mae: 8526.4375 - val_loss: 190974928.0000 - val_mae: 8652.7754\n",
            "Epoch 11/100\n",
            "\u001b[1m29/29\u001b[0m \u001b[32m━━━━━━━━━━━━━━━━━━━━\u001b[0m\u001b[37m\u001b[0m \u001b[1m0s\u001b[0m 7ms/step - loss: 163329520.0000 - mae: 7989.5337 - val_loss: 167193728.0000 - val_mae: 7953.0059\n",
            "Epoch 12/100\n",
            "\u001b[1m29/29\u001b[0m \u001b[32m━━━━━━━━━━━━━━━━━━━━\u001b[0m\u001b[37m\u001b[0m \u001b[1m0s\u001b[0m 8ms/step - loss: 150567488.0000 - mae: 7491.8628 - val_loss: 140734096.0000 - val_mae: 7315.2319\n",
            "Epoch 13/100\n",
            "\u001b[1m29/29\u001b[0m \u001b[32m━━━━━━━━━━━━━━━━━━━━\u001b[0m\u001b[37m\u001b[0m \u001b[1m1s\u001b[0m 10ms/step - loss: 124978088.0000 - mae: 6830.1006 - val_loss: 113590064.0000 - val_mae: 6691.8408\n",
            "Epoch 14/100\n",
            "\u001b[1m29/29\u001b[0m \u001b[32m━━━━━━━━━━━━━━━━━━━━\u001b[0m\u001b[37m\u001b[0m \u001b[1m1s\u001b[0m 7ms/step - loss: 90420240.0000 - mae: 5857.5234 - val_loss: 90297248.0000 - val_mae: 6166.5088\n",
            "Epoch 15/100\n",
            "\u001b[1m29/29\u001b[0m \u001b[32m━━━━━━━━━━━━━━━━━━━━\u001b[0m\u001b[37m\u001b[0m \u001b[1m0s\u001b[0m 9ms/step - loss: 71716176.0000 - mae: 5571.0596 - val_loss: 71977112.0000 - val_mae: 5863.1938\n",
            "Epoch 16/100\n",
            "\u001b[1m29/29\u001b[0m \u001b[32m━━━━━━━━━━━━━━━━━━━━\u001b[0m\u001b[37m\u001b[0m \u001b[1m0s\u001b[0m 6ms/step - loss: 60166960.0000 - mae: 5264.0454 - val_loss: 59491660.0000 - val_mae: 5681.9580\n",
            "Epoch 17/100\n",
            "\u001b[1m29/29\u001b[0m \u001b[32m━━━━━━━━━━━━━━━━━━━━\u001b[0m\u001b[37m\u001b[0m \u001b[1m0s\u001b[0m 5ms/step - loss: 47157068.0000 - mae: 5117.2212 - val_loss: 52460304.0000 - val_mae: 5585.3477\n",
            "Epoch 18/100\n",
            "\u001b[1m29/29\u001b[0m \u001b[32m━━━━━━━━━━━━━━━━━━━━\u001b[0m\u001b[37m\u001b[0m \u001b[1m0s\u001b[0m 5ms/step - loss: 49553572.0000 - mae: 5455.3604 - val_loss: 47915524.0000 - val_mae: 5540.4932\n",
            "Epoch 19/100\n",
            "\u001b[1m29/29\u001b[0m \u001b[32m━━━━━━━━━━━━━━━━━━━━\u001b[0m\u001b[37m\u001b[0m \u001b[1m0s\u001b[0m 6ms/step - loss: 42462004.0000 - mae: 5166.5410 - val_loss: 45574308.0000 - val_mae: 5502.6582\n",
            "Epoch 20/100\n",
            "\u001b[1m29/29\u001b[0m \u001b[32m━━━━━━━━━━━━━━━━━━━━\u001b[0m\u001b[37m\u001b[0m \u001b[1m0s\u001b[0m 6ms/step - loss: 44186056.0000 - mae: 5462.0830 - val_loss: 43907896.0000 - val_mae: 5497.4580\n",
            "Epoch 21/100\n",
            "\u001b[1m29/29\u001b[0m \u001b[32m━━━━━━━━━━━━━━━━━━━━\u001b[0m\u001b[37m\u001b[0m \u001b[1m0s\u001b[0m 4ms/step - loss: 39770048.0000 - mae: 5194.2598 - val_loss: 42559840.0000 - val_mae: 5401.2676\n",
            "Epoch 22/100\n",
            "\u001b[1m29/29\u001b[0m \u001b[32m━━━━━━━━━━━━━━━━━━━━\u001b[0m\u001b[37m\u001b[0m \u001b[1m0s\u001b[0m 7ms/step - loss: 36714352.0000 - mae: 5054.8730 - val_loss: 41692416.0000 - val_mae: 5409.4150\n",
            "Epoch 23/100\n",
            "\u001b[1m29/29\u001b[0m \u001b[32m━━━━━━━━━━━━━━━━━━━━\u001b[0m\u001b[37m\u001b[0m \u001b[1m0s\u001b[0m 7ms/step - loss: 38407668.0000 - mae: 5253.4111 - val_loss: 41173964.0000 - val_mae: 5412.5039\n",
            "Epoch 24/100\n",
            "\u001b[1m29/29\u001b[0m \u001b[32m━━━━━━━━━━━━━━━━━━━━\u001b[0m\u001b[37m\u001b[0m \u001b[1m0s\u001b[0m 9ms/step - loss: 39392000.0000 - mae: 5316.9209 - val_loss: 41049460.0000 - val_mae: 5386.7769\n",
            "Epoch 25/100\n",
            "\u001b[1m29/29\u001b[0m \u001b[32m━━━━━━━━━━━━━━━━━━━━\u001b[0m\u001b[37m\u001b[0m \u001b[1m0s\u001b[0m 7ms/step - loss: 37362672.0000 - mae: 5102.3955 - val_loss: 41185304.0000 - val_mae: 5428.9761\n",
            "Epoch 26/100\n",
            "\u001b[1m29/29\u001b[0m \u001b[32m━━━━━━━━━━━━━━━━━━━━\u001b[0m\u001b[37m\u001b[0m \u001b[1m0s\u001b[0m 6ms/step - loss: 38283648.0000 - mae: 5211.5518 - val_loss: 40733776.0000 - val_mae: 5390.6445\n",
            "Epoch 27/100\n",
            "\u001b[1m29/29\u001b[0m \u001b[32m━━━━━━━━━━━━━━━━━━━━\u001b[0m\u001b[37m\u001b[0m \u001b[1m0s\u001b[0m 9ms/step - loss: 36896884.0000 - mae: 5155.1118 - val_loss: 40728288.0000 - val_mae: 5380.9468\n",
            "Epoch 28/100\n",
            "\u001b[1m29/29\u001b[0m \u001b[32m━━━━━━━━━━━━━━━━━━━━\u001b[0m\u001b[37m\u001b[0m \u001b[1m1s\u001b[0m 13ms/step - loss: 38947120.0000 - mae: 5298.6665 - val_loss: 40638204.0000 - val_mae: 5418.1313\n",
            "Epoch 29/100\n",
            "\u001b[1m29/29\u001b[0m \u001b[32m━━━━━━━━━━━━━━━━━━━━\u001b[0m\u001b[37m\u001b[0m \u001b[1m1s\u001b[0m 12ms/step - loss: 35062780.0000 - mae: 4973.8335 - val_loss: 40372420.0000 - val_mae: 5407.1577\n",
            "Epoch 30/100\n",
            "\u001b[1m29/29\u001b[0m \u001b[32m━━━━━━━━━━━━━━━━━━━━\u001b[0m\u001b[37m\u001b[0m \u001b[1m1s\u001b[0m 17ms/step - loss: 39293968.0000 - mae: 5318.2197 - val_loss: 40578052.0000 - val_mae: 5394.2954\n",
            "Epoch 31/100\n",
            "\u001b[1m29/29\u001b[0m \u001b[32m━━━━━━━━━━━━━━━━━━━━\u001b[0m\u001b[37m\u001b[0m \u001b[1m0s\u001b[0m 6ms/step - loss: 36792484.0000 - mae: 5157.1973 - val_loss: 40359220.0000 - val_mae: 5390.2920\n",
            "Epoch 32/100\n",
            "\u001b[1m29/29\u001b[0m \u001b[32m━━━━━━━━━━━━━━━━━━━━\u001b[0m\u001b[37m\u001b[0m \u001b[1m0s\u001b[0m 10ms/step - loss: 37572324.0000 - mae: 5212.7793 - val_loss: 40367528.0000 - val_mae: 5385.8892\n",
            "Epoch 33/100\n",
            "\u001b[1m29/29\u001b[0m \u001b[32m━━━━━━━━━━━━━━━━━━━━\u001b[0m\u001b[37m\u001b[0m \u001b[1m0s\u001b[0m 12ms/step - loss: 40606548.0000 - mae: 5454.0303 - val_loss: 40547852.0000 - val_mae: 5410.2930\n",
            "Epoch 34/100\n",
            "\u001b[1m29/29\u001b[0m \u001b[32m━━━━━━━━━━━━━━━━━━━━\u001b[0m\u001b[37m\u001b[0m \u001b[1m1s\u001b[0m 15ms/step - loss: 41547468.0000 - mae: 5509.6733 - val_loss: 40458992.0000 - val_mae: 5416.4087\n",
            "Epoch 35/100\n",
            "\u001b[1m29/29\u001b[0m \u001b[32m━━━━━━━━━━━━━━━━━━━━\u001b[0m\u001b[37m\u001b[0m \u001b[1m1s\u001b[0m 24ms/step - loss: 38587712.0000 - mae: 5273.0278 - val_loss: 40680280.0000 - val_mae: 5426.6938\n",
            "Epoch 36/100\n",
            "\u001b[1m29/29\u001b[0m \u001b[32m━━━━━━━━━━━━━━━━━━━━\u001b[0m\u001b[37m\u001b[0m \u001b[1m1s\u001b[0m 7ms/step - loss: 38325488.0000 - mae: 5253.7695 - val_loss: 40383484.0000 - val_mae: 5384.0205\n",
            "Epoch 37/100\n",
            "\u001b[1m29/29\u001b[0m \u001b[32m━━━━━━━━━━━━━━━━━━━━\u001b[0m\u001b[37m\u001b[0m \u001b[1m0s\u001b[0m 3ms/step - loss: 36884416.0000 - mae: 5207.4219 - val_loss: 40285716.0000 - val_mae: 5406.1958\n",
            "Epoch 38/100\n",
            "\u001b[1m29/29\u001b[0m \u001b[32m━━━━━━━━━━━━━━━━━━━━\u001b[0m\u001b[37m\u001b[0m \u001b[1m0s\u001b[0m 3ms/step - loss: 34999108.0000 - mae: 5067.2021 - val_loss: 40435048.0000 - val_mae: 5388.2036\n",
            "Epoch 39/100\n",
            "\u001b[1m29/29\u001b[0m \u001b[32m━━━━━━━━━━━━━━━━━━━━\u001b[0m\u001b[37m\u001b[0m \u001b[1m0s\u001b[0m 4ms/step - loss: 38228140.0000 - mae: 5182.4614 - val_loss: 40289960.0000 - val_mae: 5414.1079\n",
            "Epoch 40/100\n",
            "\u001b[1m29/29\u001b[0m \u001b[32m━━━━━━━━━━━━━━━━━━━━\u001b[0m\u001b[37m\u001b[0m \u001b[1m0s\u001b[0m 3ms/step - loss: 36623876.0000 - mae: 5166.7324 - val_loss: 40485620.0000 - val_mae: 5423.2642\n",
            "Epoch 41/100\n",
            "\u001b[1m29/29\u001b[0m \u001b[32m━━━━━━━━━━━━━━━━━━━━\u001b[0m\u001b[37m\u001b[0m \u001b[1m0s\u001b[0m 3ms/step - loss: 37007156.0000 - mae: 5198.0400 - val_loss: 40286076.0000 - val_mae: 5421.6401\n",
            "Epoch 42/100\n",
            "\u001b[1m29/29\u001b[0m \u001b[32m━━━━━━━━━━━━━━━━━━━━\u001b[0m\u001b[37m\u001b[0m \u001b[1m0s\u001b[0m 3ms/step - loss: 38333964.0000 - mae: 5295.2388 - val_loss: 40319256.0000 - val_mae: 5409.3955\n",
            "Epoch 43/100\n",
            "\u001b[1m29/29\u001b[0m \u001b[32m━━━━━━━━━━━━━━━━━━━━\u001b[0m\u001b[37m\u001b[0m \u001b[1m0s\u001b[0m 3ms/step - loss: 40538976.0000 - mae: 5437.0894 - val_loss: 40419476.0000 - val_mae: 5403.4448\n",
            "Epoch 44/100\n",
            "\u001b[1m29/29\u001b[0m \u001b[32m━━━━━━━━━━━━━━━━━━━━\u001b[0m\u001b[37m\u001b[0m \u001b[1m0s\u001b[0m 3ms/step - loss: 39801892.0000 - mae: 5398.1235 - val_loss: 40328736.0000 - val_mae: 5394.0811\n",
            "Epoch 45/100\n",
            "\u001b[1m29/29\u001b[0m \u001b[32m━━━━━━━━━━━━━━━━━━━━\u001b[0m\u001b[37m\u001b[0m \u001b[1m0s\u001b[0m 2ms/step - loss: 40538072.0000 - mae: 5386.2148 - val_loss: 40539824.0000 - val_mae: 5417.4771\n",
            "Epoch 46/100\n",
            "\u001b[1m29/29\u001b[0m \u001b[32m━━━━━━━━━━━━━━━━━━━━\u001b[0m\u001b[37m\u001b[0m \u001b[1m0s\u001b[0m 4ms/step - loss: 37276344.0000 - mae: 5210.8721 - val_loss: 40454020.0000 - val_mae: 5364.6113\n",
            "Epoch 47/100\n",
            "\u001b[1m29/29\u001b[0m \u001b[32m━━━━━━━━━━━━━━━━━━━━\u001b[0m\u001b[37m\u001b[0m \u001b[1m0s\u001b[0m 3ms/step - loss: 40313876.0000 - mae: 5344.5552 - val_loss: 40444896.0000 - val_mae: 5434.7168\n",
            "Epoch 48/100\n",
            "\u001b[1m29/29\u001b[0m \u001b[32m━━━━━━━━━━━━━━━━━━━━\u001b[0m\u001b[37m\u001b[0m \u001b[1m0s\u001b[0m 3ms/step - loss: 37566992.0000 - mae: 5179.2349 - val_loss: 40457072.0000 - val_mae: 5386.9858\n",
            "Epoch 49/100\n",
            "\u001b[1m29/29\u001b[0m \u001b[32m━━━━━━━━━━━━━━━━━━━━\u001b[0m\u001b[37m\u001b[0m \u001b[1m0s\u001b[0m 2ms/step - loss: 39500320.0000 - mae: 5344.1738 - val_loss: 40324132.0000 - val_mae: 5413.5898\n",
            "Epoch 50/100\n",
            "\u001b[1m29/29\u001b[0m \u001b[32m━━━━━━━━━━━━━━━━━━━━\u001b[0m\u001b[37m\u001b[0m \u001b[1m0s\u001b[0m 3ms/step - loss: 38040428.0000 - mae: 5254.5342 - val_loss: 40339772.0000 - val_mae: 5408.0308\n",
            "Epoch 51/100\n",
            "\u001b[1m29/29\u001b[0m \u001b[32m━━━━━━━━━━━━━━━━━━━━\u001b[0m\u001b[37m\u001b[0m \u001b[1m0s\u001b[0m 3ms/step - loss: 34497776.0000 - mae: 5035.8003 - val_loss: 40390736.0000 - val_mae: 5424.3286\n",
            "Epoch 52/100\n",
            "\u001b[1m29/29\u001b[0m \u001b[32m━━━━━━━━━━━━━━━━━━━━\u001b[0m\u001b[37m\u001b[0m \u001b[1m0s\u001b[0m 3ms/step - loss: 36173280.0000 - mae: 5122.6987 - val_loss: 40229596.0000 - val_mae: 5413.7900\n",
            "Epoch 53/100\n",
            "\u001b[1m29/29\u001b[0m \u001b[32m━━━━━━━━━━━━━━━━━━━━\u001b[0m\u001b[37m\u001b[0m \u001b[1m0s\u001b[0m 3ms/step - loss: 40378432.0000 - mae: 5415.4868 - val_loss: 40341664.0000 - val_mae: 5384.5908\n",
            "Epoch 54/100\n",
            "\u001b[1m29/29\u001b[0m \u001b[32m━━━━━━━━━━━━━━━━━━━━\u001b[0m\u001b[37m\u001b[0m \u001b[1m0s\u001b[0m 4ms/step - loss: 37375420.0000 - mae: 5201.6592 - val_loss: 40364360.0000 - val_mae: 5395.1538\n",
            "Epoch 55/100\n",
            "\u001b[1m29/29\u001b[0m \u001b[32m━━━━━━━━━━━━━━━━━━━━\u001b[0m\u001b[37m\u001b[0m \u001b[1m0s\u001b[0m 3ms/step - loss: 39380160.0000 - mae: 5300.2402 - val_loss: 40327792.0000 - val_mae: 5416.9316\n",
            "Epoch 56/100\n",
            "\u001b[1m29/29\u001b[0m \u001b[32m━━━━━━━━━━━━━━━━━━━━\u001b[0m\u001b[37m\u001b[0m \u001b[1m0s\u001b[0m 3ms/step - loss: 40468388.0000 - mae: 5403.8950 - val_loss: 40281376.0000 - val_mae: 5401.3301\n",
            "Epoch 57/100\n",
            "\u001b[1m29/29\u001b[0m \u001b[32m━━━━━━━━━━━━━━━━━━━━\u001b[0m\u001b[37m\u001b[0m \u001b[1m0s\u001b[0m 3ms/step - loss: 38129568.0000 - mae: 5287.7036 - val_loss: 40430288.0000 - val_mae: 5387.4336\n",
            "Epoch 58/100\n",
            "\u001b[1m29/29\u001b[0m \u001b[32m━━━━━━━━━━━━━━━━━━━━\u001b[0m\u001b[37m\u001b[0m \u001b[1m0s\u001b[0m 4ms/step - loss: 38495184.0000 - mae: 5311.0679 - val_loss: 40287012.0000 - val_mae: 5408.5239\n",
            "Epoch 59/100\n",
            "\u001b[1m29/29\u001b[0m \u001b[32m━━━━━━━━━━━━━━━━━━━━\u001b[0m\u001b[37m\u001b[0m \u001b[1m0s\u001b[0m 3ms/step - loss: 40787256.0000 - mae: 5444.2036 - val_loss: 40358568.0000 - val_mae: 5405.4487\n",
            "Epoch 60/100\n",
            "\u001b[1m29/29\u001b[0m \u001b[32m━━━━━━━━━━━━━━━━━━━━\u001b[0m\u001b[37m\u001b[0m \u001b[1m0s\u001b[0m 3ms/step - loss: 39036120.0000 - mae: 5302.1260 - val_loss: 40476752.0000 - val_mae: 5402.1973\n",
            "Epoch 61/100\n",
            "\u001b[1m29/29\u001b[0m \u001b[32m━━━━━━━━━━━━━━━━━━━━\u001b[0m\u001b[37m\u001b[0m \u001b[1m0s\u001b[0m 5ms/step - loss: 37067492.0000 - mae: 5209.9399 - val_loss: 40288860.0000 - val_mae: 5406.5332\n",
            "Epoch 62/100\n",
            "\u001b[1m29/29\u001b[0m \u001b[32m━━━━━━━━━━━━━━━━━━━━\u001b[0m\u001b[37m\u001b[0m \u001b[1m0s\u001b[0m 3ms/step - loss: 38400844.0000 - mae: 5328.4814 - val_loss: 40231096.0000 - val_mae: 5409.5811\n",
            "Epoch 63/100\n",
            "\u001b[1m29/29\u001b[0m \u001b[32m━━━━━━━━━━━━━━━━━━━━\u001b[0m\u001b[37m\u001b[0m \u001b[1m0s\u001b[0m 2ms/step - loss: 37490340.0000 - mae: 5196.1348 - val_loss: 40423952.0000 - val_mae: 5435.0083\n",
            "Epoch 64/100\n",
            "\u001b[1m29/29\u001b[0m \u001b[32m━━━━━━━━━━━━━━━━━━━━\u001b[0m\u001b[37m\u001b[0m \u001b[1m0s\u001b[0m 3ms/step - loss: 39786856.0000 - mae: 5374.4956 - val_loss: 40375124.0000 - val_mae: 5379.2695\n",
            "Epoch 65/100\n",
            "\u001b[1m29/29\u001b[0m \u001b[32m━━━━━━━━━━━━━━━━━━━━\u001b[0m\u001b[37m\u001b[0m \u001b[1m0s\u001b[0m 2ms/step - loss: 38525204.0000 - mae: 5213.6128 - val_loss: 40360168.0000 - val_mae: 5409.9438\n",
            "Epoch 66/100\n",
            "\u001b[1m29/29\u001b[0m \u001b[32m━━━━━━━━━━━━━━━━━━━━\u001b[0m\u001b[37m\u001b[0m \u001b[1m0s\u001b[0m 3ms/step - loss: 37647080.0000 - mae: 5206.0498 - val_loss: 40370088.0000 - val_mae: 5383.4346\n",
            "Epoch 67/100\n",
            "\u001b[1m29/29\u001b[0m \u001b[32m━━━━━━━━━━━━━━━━━━━━\u001b[0m\u001b[37m\u001b[0m \u001b[1m0s\u001b[0m 3ms/step - loss: 38578760.0000 - mae: 5283.7393 - val_loss: 40496920.0000 - val_mae: 5402.8486\n",
            "Epoch 68/100\n",
            "\u001b[1m29/29\u001b[0m \u001b[32m━━━━━━━━━━━━━━━━━━━━\u001b[0m\u001b[37m\u001b[0m \u001b[1m0s\u001b[0m 7ms/step - loss: 38325312.0000 - mae: 5290.5342 - val_loss: 40254424.0000 - val_mae: 5403.8901\n",
            "Epoch 69/100\n",
            "\u001b[1m29/29\u001b[0m \u001b[32m━━━━━━━━━━━━━━━━━━━━\u001b[0m\u001b[37m\u001b[0m \u001b[1m0s\u001b[0m 5ms/step - loss: 38127852.0000 - mae: 5279.3643 - val_loss: 40375840.0000 - val_mae: 5396.9580\n",
            "Epoch 70/100\n",
            "\u001b[1m29/29\u001b[0m \u001b[32m━━━━━━━━━━━━━━━━━━━━\u001b[0m\u001b[37m\u001b[0m \u001b[1m0s\u001b[0m 4ms/step - loss: 39263916.0000 - mae: 5296.0537 - val_loss: 40361584.0000 - val_mae: 5384.1309\n",
            "Epoch 71/100\n",
            "\u001b[1m29/29\u001b[0m \u001b[32m━━━━━━━━━━━━━━━━━━━━\u001b[0m\u001b[37m\u001b[0m \u001b[1m0s\u001b[0m 3ms/step - loss: 38623304.0000 - mae: 5264.2729 - val_loss: 40517092.0000 - val_mae: 5411.4824\n",
            "Epoch 72/100\n",
            "\u001b[1m29/29\u001b[0m \u001b[32m━━━━━━━━━━━━━━━━━━━━\u001b[0m\u001b[37m\u001b[0m \u001b[1m0s\u001b[0m 3ms/step - loss: 38033424.0000 - mae: 5194.3770 - val_loss: 40541440.0000 - val_mae: 5404.0742\n",
            "Epoch 73/100\n",
            "\u001b[1m29/29\u001b[0m \u001b[32m━━━━━━━━━━━━━━━━━━━━\u001b[0m\u001b[37m\u001b[0m \u001b[1m0s\u001b[0m 2ms/step - loss: 37003008.0000 - mae: 5220.3789 - val_loss: 40459176.0000 - val_mae: 5401.0117\n",
            "Epoch 74/100\n",
            "\u001b[1m29/29\u001b[0m \u001b[32m━━━━━━━━━━━━━━━━━━━━\u001b[0m\u001b[37m\u001b[0m \u001b[1m0s\u001b[0m 3ms/step - loss: 37958300.0000 - mae: 5254.3525 - val_loss: 40291604.0000 - val_mae: 5404.9292\n",
            "Epoch 75/100\n",
            "\u001b[1m29/29\u001b[0m \u001b[32m━━━━━━━━━━━━━━━━━━━━\u001b[0m\u001b[37m\u001b[0m \u001b[1m0s\u001b[0m 3ms/step - loss: 37903308.0000 - mae: 5252.5264 - val_loss: 40385512.0000 - val_mae: 5390.9863\n",
            "Epoch 76/100\n",
            "\u001b[1m29/29\u001b[0m \u001b[32m━━━━━━━━━━━━━━━━━━━━\u001b[0m\u001b[37m\u001b[0m \u001b[1m0s\u001b[0m 3ms/step - loss: 36417416.0000 - mae: 5146.9502 - val_loss: 40316100.0000 - val_mae: 5382.1631\n",
            "Epoch 77/100\n",
            "\u001b[1m29/29\u001b[0m \u001b[32m━━━━━━━━━━━━━━━━━━━━\u001b[0m\u001b[37m\u001b[0m \u001b[1m0s\u001b[0m 3ms/step - loss: 38387444.0000 - mae: 5200.8896 - val_loss: 40362800.0000 - val_mae: 5394.3975\n",
            "Epoch 78/100\n",
            "\u001b[1m29/29\u001b[0m \u001b[32m━━━━━━━━━━━━━━━━━━━━\u001b[0m\u001b[37m\u001b[0m \u001b[1m0s\u001b[0m 3ms/step - loss: 33991468.0000 - mae: 5034.4756 - val_loss: 40330812.0000 - val_mae: 5401.6948\n",
            "Epoch 79/100\n",
            "\u001b[1m29/29\u001b[0m \u001b[32m━━━━━━━━━━━━━━━━━━━━\u001b[0m\u001b[37m\u001b[0m \u001b[1m0s\u001b[0m 5ms/step - loss: 35810616.0000 - mae: 5160.0776 - val_loss: 40164192.0000 - val_mae: 5409.7764\n",
            "Epoch 80/100\n",
            "\u001b[1m29/29\u001b[0m \u001b[32m━━━━━━━━━━━━━━━━━━━━\u001b[0m\u001b[37m\u001b[0m \u001b[1m0s\u001b[0m 3ms/step - loss: 37633328.0000 - mae: 5256.3467 - val_loss: 40345760.0000 - val_mae: 5399.0063\n",
            "Epoch 81/100\n",
            "\u001b[1m29/29\u001b[0m \u001b[32m━━━━━━━━━━━━━━━━━━━━\u001b[0m\u001b[37m\u001b[0m \u001b[1m0s\u001b[0m 3ms/step - loss: 39040760.0000 - mae: 5323.0503 - val_loss: 40445200.0000 - val_mae: 5401.1411\n",
            "Epoch 82/100\n",
            "\u001b[1m29/29\u001b[0m \u001b[32m━━━━━━━━━━━━━━━━━━━━\u001b[0m\u001b[37m\u001b[0m \u001b[1m0s\u001b[0m 3ms/step - loss: 37760820.0000 - mae: 5234.5210 - val_loss: 40392828.0000 - val_mae: 5397.0645\n",
            "Epoch 83/100\n",
            "\u001b[1m29/29\u001b[0m \u001b[32m━━━━━━━━━━━━━━━━━━━━\u001b[0m\u001b[37m\u001b[0m \u001b[1m0s\u001b[0m 3ms/step - loss: 39005576.0000 - mae: 5250.2236 - val_loss: 40547144.0000 - val_mae: 5413.6211\n",
            "Epoch 84/100\n",
            "\u001b[1m29/29\u001b[0m \u001b[32m━━━━━━━━━━━━━━━━━━━━\u001b[0m\u001b[37m\u001b[0m \u001b[1m0s\u001b[0m 3ms/step - loss: 38467252.0000 - mae: 5236.5923 - val_loss: 40514116.0000 - val_mae: 5408.4736\n",
            "Epoch 85/100\n",
            "\u001b[1m29/29\u001b[0m \u001b[32m━━━━━━━━━━━━━━━━━━━━\u001b[0m\u001b[37m\u001b[0m \u001b[1m0s\u001b[0m 3ms/step - loss: 39867696.0000 - mae: 5364.5942 - val_loss: 40471704.0000 - val_mae: 5391.7139\n",
            "Epoch 86/100\n",
            "\u001b[1m29/29\u001b[0m \u001b[32m━━━━━━━━━━━━━━━━━━━━\u001b[0m\u001b[37m\u001b[0m \u001b[1m0s\u001b[0m 5ms/step - loss: 37711924.0000 - mae: 5258.1309 - val_loss: 40443032.0000 - val_mae: 5405.5361\n",
            "Epoch 87/100\n",
            "\u001b[1m29/29\u001b[0m \u001b[32m━━━━━━━━━━━━━━━━━━━━\u001b[0m\u001b[37m\u001b[0m \u001b[1m0s\u001b[0m 4ms/step - loss: 35856120.0000 - mae: 5137.9634 - val_loss: 40338632.0000 - val_mae: 5382.6289\n",
            "Epoch 88/100\n",
            "\u001b[1m29/29\u001b[0m \u001b[32m━━━━━━━━━━━━━━━━━━━━\u001b[0m\u001b[37m\u001b[0m \u001b[1m0s\u001b[0m 4ms/step - loss: 35976828.0000 - mae: 5139.5454 - val_loss: 40269236.0000 - val_mae: 5415.2017\n",
            "Epoch 89/100\n",
            "\u001b[1m29/29\u001b[0m \u001b[32m━━━━━━━━━━━━━━━━━━━━\u001b[0m\u001b[37m\u001b[0m \u001b[1m0s\u001b[0m 4ms/step - loss: 39466456.0000 - mae: 5363.5601 - val_loss: 40276648.0000 - val_mae: 5426.0850\n",
            "Epoch 90/100\n",
            "\u001b[1m29/29\u001b[0m \u001b[32m━━━━━━━━━━━━━━━━━━━━\u001b[0m\u001b[37m\u001b[0m \u001b[1m0s\u001b[0m 3ms/step - loss: 37516040.0000 - mae: 5223.5767 - val_loss: 40380720.0000 - val_mae: 5389.2476\n",
            "Epoch 91/100\n",
            "\u001b[1m29/29\u001b[0m \u001b[32m━━━━━━━━━━━━━━━━━━━━\u001b[0m\u001b[37m\u001b[0m \u001b[1m0s\u001b[0m 4ms/step - loss: 36577792.0000 - mae: 5164.6318 - val_loss: 40421380.0000 - val_mae: 5403.7080\n",
            "Epoch 92/100\n",
            "\u001b[1m29/29\u001b[0m \u001b[32m━━━━━━━━━━━━━━━━━━━━\u001b[0m\u001b[37m\u001b[0m \u001b[1m0s\u001b[0m 5ms/step - loss: 37501080.0000 - mae: 5214.1084 - val_loss: 40346300.0000 - val_mae: 5388.6221\n",
            "Epoch 93/100\n",
            "\u001b[1m29/29\u001b[0m \u001b[32m━━━━━━━━━━━━━━━━━━━━\u001b[0m\u001b[37m\u001b[0m \u001b[1m0s\u001b[0m 3ms/step - loss: 38246304.0000 - mae: 5273.8096 - val_loss: 40505780.0000 - val_mae: 5399.8501\n",
            "Epoch 94/100\n",
            "\u001b[1m29/29\u001b[0m \u001b[32m━━━━━━━━━━━━━━━━━━━━\u001b[0m\u001b[37m\u001b[0m \u001b[1m0s\u001b[0m 5ms/step - loss: 35311024.0000 - mae: 4995.7578 - val_loss: 40389180.0000 - val_mae: 5380.8218\n",
            "Epoch 95/100\n",
            "\u001b[1m29/29\u001b[0m \u001b[32m━━━━━━━━━━━━━━━━━━━━\u001b[0m\u001b[37m\u001b[0m \u001b[1m0s\u001b[0m 5ms/step - loss: 37220112.0000 - mae: 5193.7178 - val_loss: 40329236.0000 - val_mae: 5413.1025\n",
            "Epoch 96/100\n",
            "\u001b[1m29/29\u001b[0m \u001b[32m━━━━━━━━━━━━━━━━━━━━\u001b[0m\u001b[37m\u001b[0m \u001b[1m0s\u001b[0m 7ms/step - loss: 38279748.0000 - mae: 5252.3652 - val_loss: 40313476.0000 - val_mae: 5394.3633\n",
            "Epoch 97/100\n",
            "\u001b[1m29/29\u001b[0m \u001b[32m━━━━━━━━━━━━━━━━━━━━\u001b[0m\u001b[37m\u001b[0m \u001b[1m0s\u001b[0m 6ms/step - loss: 37544016.0000 - mae: 5264.0283 - val_loss: 40354964.0000 - val_mae: 5396.0381\n",
            "Epoch 98/100\n",
            "\u001b[1m29/29\u001b[0m \u001b[32m━━━━━━━━━━━━━━━━━━━━\u001b[0m\u001b[37m\u001b[0m \u001b[1m0s\u001b[0m 5ms/step - loss: 37720484.0000 - mae: 5188.0688 - val_loss: 40356128.0000 - val_mae: 5434.2300\n",
            "Epoch 99/100\n",
            "\u001b[1m29/29\u001b[0m \u001b[32m━━━━━━━━━━━━━━━━━━━━\u001b[0m\u001b[37m\u001b[0m \u001b[1m0s\u001b[0m 5ms/step - loss: 37165652.0000 - mae: 5238.6519 - val_loss: 40272328.0000 - val_mae: 5405.3789\n",
            "Epoch 100/100\n",
            "\u001b[1m29/29\u001b[0m \u001b[32m━━━━━━━━━━━━━━━━━━━━\u001b[0m\u001b[37m\u001b[0m \u001b[1m0s\u001b[0m 7ms/step - loss: 38371740.0000 - mae: 5262.8169 - val_loss: 40399816.0000 - val_mae: 5417.0645\n",
            "\u001b[1m2/2\u001b[0m \u001b[32m━━━━━━━━━━━━━━━━━━━━\u001b[0m\u001b[37m\u001b[0m \u001b[1m0s\u001b[0m 12ms/step - loss: 36786732.0000 - mae: 5259.2886\n",
            "Test Loss: 36876360.0, Test MAE: 5276.74853515625\n"
          ]
        },
        {
          "output_type": "display_data",
          "data": {
            "text/plain": [
              "<Figure size 1200x500 with 2 Axes>"
            ],
            "image/png": "[encoded data removed]"
          },
          "metadata": {}
        },
        {
          "output_type": "display_data",
          "data": {
            "text/plain": [
              "\u001b[1mModel: \"sequential_1\"\u001b[0m\n"
            ],
            "text/html": [
              "<pre style=\"white-space:pre;overflow-x:auto;line-height:normal;font-family:Menlo,'DejaVu Sans Mono',consolas,'Courier New',monospace\"><span style=\"font-weight: bold\">Model: \"sequential_1\"</span>\n",
              "</pre>\n"
            ]
          },
          "metadata": {}
        },
        {
          "output_type": "display_data",
          "data": {
            "text/plain": [
              "┏━━━━━━━━━━━━━━━━━━━━━━━━━━━━━━━━━━━━━━┳━━━━━━━━━━━━━━━━━━━━━━━━━━━━━┳━━━━━━━━━━━━━━━━━┓\n",
              "┃\u001b[1m \u001b[0m\u001b[1mLayer (type)                        \u001b[0m\u001b[1m \u001b[0m┃\u001b[1m \u001b[0m\u001b[1mOutput Shape               \u001b[0m\u001b[1m \u001b[0m┃\u001b[1m \u001b[0m\u001b[1m        Param #\u001b[0m\u001b[1m \u001b[0m┃\n",
              "┡━━━━━━━━━━━━━━━━━━━━━━━━━━━━━━━━━━━━━━╇━━━━━━━━━━━━━━━━━━━━━━━━━━━━━╇━━━━━━━━━━━━━━━━━┩\n",
              "│ dense_25 (\u001b[38;5;33mDense\u001b[0m)                     │ (\u001b[38;5;45mNone\u001b[0m, \u001b[38;5;34m32\u001b[0m)                  │              \u001b[38;5;34m64\u001b[0m │\n",
              "├──────────────────────────────────────┼─────────────────────────────┼─────────────────┤\n",
              "│ dense_26 (\u001b[38;5;33mDense\u001b[0m)                     │ (\u001b[38;5;45mNone\u001b[0m, \u001b[38;5;34m64\u001b[0m)                  │           \u001b[38;5;34m2,112\u001b[0m │\n",
              "├──────────────────────────────────────┼─────────────────────────────┼─────────────────┤\n",
              "│ dense_27 (\u001b[38;5;33mDense\u001b[0m)                     │ (\u001b[38;5;45mNone\u001b[0m, \u001b[38;5;34m128\u001b[0m)                 │           \u001b[38;5;34m8,320\u001b[0m │\n",
              "├──────────────────────────────────────┼─────────────────────────────┼─────────────────┤\n",
              "│ dense_28 (\u001b[38;5;33mDense\u001b[0m)                     │ (\u001b[38;5;45mNone\u001b[0m, \u001b[38;5;34m1\u001b[0m)                   │             \u001b[38;5;34m129\u001b[0m │\n",
              "└──────────────────────────────────────┴─────────────────────────────┴─────────────────┘\n"
            ],
            "text/html": [
              "<pre style=\"white-space:pre;overflow-x:auto;line-height:normal;font-family:Menlo,'DejaVu Sans Mono',consolas,'Courier New',monospace\">┏━━━━━━━━━━━━━━━━━━━━━━━━━━━━━━━━━━━━━━┳━━━━━━━━━━━━━━━━━━━━━━━━━━━━━┳━━━━━━━━━━━━━━━━━┓\n",
              "┃<span style=\"font-weight: bold\"> Layer (type)                         </span>┃<span style=\"font-weight: bold\"> Output Shape                </span>┃<span style=\"font-weight: bold\">         Param # </span>┃\n",
              "┡━━━━━━━━━━━━━━━━━━━━━━━━━━━━━━━━━━━━━━╇━━━━━━━━━━━━━━━━━━━━━━━━━━━━━╇━━━━━━━━━━━━━━━━━┩\n",
              "│ dense_25 (<span style=\"color: #0087ff; text-decoration-color: #0087ff\">Dense</span>)                     │ (<span style=\"color: #00d7ff; text-decoration-color: #00d7ff\">None</span>, <span style=\"color: #00af00; text-decoration-color: #00af00\">32</span>)                  │              <span style=\"color: #00af00; text-decoration-color: #00af00\">64</span> │\n",
              "├──────────────────────────────────────┼─────────────────────────────┼─────────────────┤\n",
              "│ dense_26 (<span style=\"color: #0087ff; text-decoration-color: #0087ff\">Dense</span>)                     │ (<span style=\"color: #00d7ff; text-decoration-color: #00d7ff\">None</span>, <span style=\"color: #00af00; text-decoration-color: #00af00\">64</span>)                  │           <span style=\"color: #00af00; text-decoration-color: #00af00\">2,112</span> │\n",
              "├──────────────────────────────────────┼─────────────────────────────┼─────────────────┤\n",
              "│ dense_27 (<span style=\"color: #0087ff; text-decoration-color: #0087ff\">Dense</span>)                     │ (<span style=\"color: #00d7ff; text-decoration-color: #00d7ff\">None</span>, <span style=\"color: #00af00; text-decoration-color: #00af00\">128</span>)                 │           <span style=\"color: #00af00; text-decoration-color: #00af00\">8,320</span> │\n",
              "├──────────────────────────────────────┼─────────────────────────────┼─────────────────┤\n",
              "│ dense_28 (<span style=\"color: #0087ff; text-decoration-color: #0087ff\">Dense</span>)                     │ (<span style=\"color: #00d7ff; text-decoration-color: #00d7ff\">None</span>, <span style=\"color: #00af00; text-decoration-color: #00af00\">1</span>)                   │             <span style=\"color: #00af00; text-decoration-color: #00af00\">129</span> │\n",
              "└──────────────────────────────────────┴─────────────────────────────┴─────────────────┘\n",
              "</pre>\n"
            ]
          },
          "metadata": {}
        },
        {
          "output_type": "display_data",
          "data": {
            "text/plain": [
              "\u001b[1m Total params: \u001b[0m\u001b[38;5;34m31,877\u001b[0m (124.52 KB)\n"
            ],
            "text/html": [
              "<pre style=\"white-space:pre;overflow-x:auto;line-height:normal;font-family:Menlo,'DejaVu Sans Mono',consolas,'Courier New',monospace\"><span style=\"font-weight: bold\"> Total params: </span><span style=\"color: #00af00; text-decoration-color: #00af00\">31,877</span> (124.52 KB)\n",
              "</pre>\n"
            ]
          },
          "metadata": {}
        },
        {
          "output_type": "display_data",
          "data": {
            "text/plain": [
              "\u001b[1m Trainable params: \u001b[0m\u001b[38;5;34m10,625\u001b[0m (41.50 KB)\n"
            ],
            "text/html": [
              "<pre style=\"white-space:pre;overflow-x:auto;line-height:normal;font-family:Menlo,'DejaVu Sans Mono',consolas,'Courier New',monospace\"><span style=\"font-weight: bold\"> Trainable params: </span><span style=\"color: #00af00; text-decoration-color: #00af00\">10,625</span> (41.50 KB)\n",
              "</pre>\n"
            ]
          },
          "metadata": {}
        },
        {
          "output_type": "display_data",
          "data": {
            "text/plain": [
              "\u001b[1m Non-trainable params: \u001b[0m\u001b[38;5;34m0\u001b[0m (0.00 B)\n"
            ],
            "text/html": [
              "<pre style=\"white-space:pre;overflow-x:auto;line-height:normal;font-family:Menlo,'DejaVu Sans Mono',consolas,'Courier New',monospace\"><span style=\"font-weight: bold\"> Non-trainable params: </span><span style=\"color: #00af00; text-decoration-color: #00af00\">0</span> (0.00 B)\n",
              "</pre>\n"
            ]
          },
          "metadata": {}
        },
        {
          "output_type": "display_data",
          "data": {
            "text/plain": [
              "\u001b[1m Optimizer params: \u001b[0m\u001b[38;5;34m21,252\u001b[0m (83.02 KB)\n"
            ],
            "text/html": [
              "<pre style=\"white-space:pre;overflow-x:auto;line-height:normal;font-family:Menlo,'DejaVu Sans Mono',consolas,'Courier New',monospace\"><span style=\"font-weight: bold\"> Optimizer params: </span><span style=\"color: #00af00; text-decoration-color: #00af00\">21,252</span> (83.02 KB)\n",
              "</pre>\n"
            ]
          },
          "metadata": {}
        }
      ],
      "source": [
        "import numpy as np\n",
        "import tensorflow as tf\n",
        "from tensorflow.keras import Sequential\n",
        "from tensorflow.keras.layers import Dense\n",
        "import matplotlib.pyplot as plt\n",
        "from sklearn.model_selection import train_test_split\n",
        "\n",
        "# a) Generate training samples within the range of -20 to +20\n",
        "x = np.linspace(-20, 20, 1000)  # 1000 points in the range [-20, 20]\n",
        "y = 5 * x**3 - 10 * x**2 - 20 * x + 10  # Polynomial equation\n",
        "\n",
        "# b) Normalize x to the range of -1 to +1\n",
        "x_normalized = (x - np.min(x)) / (np.max(x) - np.min(x)) * 2 - 1  # Min-Max normalization\n",
        "\n",
        "# c) Split the data: 5% test, 5% validation, 90% training\n",
        "x_train, x_temp, y_train, y_temp = train_test_split(x_normalized, y, test_size=0.1, random_state=42)\n",
        "x_val, x_test, y_val, y_test = train_test_split(x_temp, y_temp, test_size=0.5, random_state=42)\n",
        "\n",
        "# d) Build the DNN model with three hidden layers of sizes 32, 64, and 128\n",
        "model = Sequential([\n",
        "    Dense(32, activation='relu', input_shape=(1,)),  # First hidden layer with 32 neurons\n",
        "    Dense(64, activation='relu'),  # Second hidden layer with 64 neurons\n",
        "    Dense(128, activation='relu'),  # Third hidden layer with 128 neurons\n",
        "    Dense(1)  # Output layer (no activation function for regression)\n",
        "])\n",
        "\n",
        "# Compile the model with Adam optimizer and Mean Squared Error loss\n",
        "model.compile(optimizer='adam', loss='mean_squared_error', metrics=['mae'])\n",
        "\n",
        "# Train the model\n",
        "history = model.fit(\n",
        "    x_train, y_train,  # Training data\n",
        "    validation_data=(x_val, y_val),  # Validation data\n",
        "    epochs=100,  # Number of epochs\n",
        "    batch_size=32,  # Batch size\n",
        "    verbose=1  # Display progress\n",
        ")\n",
        "\n",
        "# Evaluate the model on the test data\n",
        "test_loss, test_mae = model.evaluate(x_test, y_test)\n",
        "print(f\"Test Loss: {test_loss}, Test MAE: {test_mae}\")\n",
        "\n",
        "# Display training vs validation accuracy and training vs validation error curves\n",
        "plt.figure(figsize=(12, 5))\n",
        "\n",
        "# Training and validation loss curve\n",
        "plt.subplot(1, 2, 1)\n",
        "plt.plot(history.history['loss'], label='Training Loss')\n",
        "plt.plot(history.history['val_loss'], label='Validation Loss')\n",
        "plt.title('Loss Curve')\n",
        "plt.xlabel('Epochs')\n",
        "plt.ylabel('Loss')\n",
        "plt.legend()\n",
        "\n",
        "# Training and validation MAE curve\n",
        "plt.subplot(1, 2, 2)\n",
        "plt.plot(history.history['mae'], label='Training MAE')\n",
        "plt.plot(history.history['val_mae'], label='Validation MAE')\n",
        "plt.title('MAE Curve')\n",
        "plt.xlabel('Epochs')\n",
        "plt.ylabel('MAE')\n",
        "plt.legend()\n",
        "\n",
        "plt.tight_layout()\n",
        "plt.show()\n",
        "\n",
        "# Display the model summary to show the architecture and number of parameters\n",
        "model.summary()\n"
      ]
    },
    {
      "cell_type": "markdown",
      "source": [
        "Build a fully connected neural network (FCNN) and a convolutional neural network (CNN) for classifying 10 classes of images.\n",
        "\n",
        "FCNN"
      ],
      "metadata": {
        "id": "f-HGmGR374Hb"
      }
    },
    {
      "cell_type": "code",
      "source": [
        "from tensorflow.keras.layers import Input, Dense, Activation, Flatten\n",
        "from tensorflow.keras.models import Model\n",
        "from tensorflow.keras.utils import plot_model\n",
        "num_classes = 10\n",
        "inputs = Input((28, 28, 1))\n",
        "x = Flatten()(inputs)\n",
        "x = Dense(2, activation = 'sigmoid')(x)\n",
        "x = Dense(4, activation = 'sigmoid')(x)\n",
        "x = Dense(8, activation = 'sigmoid')(x)\n",
        "x = Dense(16, activation = 'sigmoid')(x)\n",
        "x = Dense(8, activation = 'sigmoid')(x)\n",
        "x = Dense(4, activation = 'sigmoid')(x)\n",
        "outputs = Dense(num_classes, name = 'OutputLayer', activation = 'softmax')(x)\n",
        "model = Model(inputs, outputs, name = 'DNN')\n",
        "model.summary(show_trainable = True)"
      ],
      "metadata": {
        "colab": {
          "base_uri": "https://localhost:8080/",
          "height": 417
        },
        "id": "cukS_3kb79VI",
        "outputId": "ddcb3059-2589-4f51-ba94-8fb2748e5686"
      },
      "execution_count": null,
      "outputs": [
        {
          "output_type": "display_data",
          "data": {
            "text/plain": [
              "\u001b[1mModel: \"DNN\"\u001b[0m\n"
            ],
            "text/html": [
              "<pre style=\"white-space:pre;overflow-x:auto;line-height:normal;font-family:Menlo,'DejaVu Sans Mono',consolas,'Courier New',monospace\"><span style=\"font-weight: bold\">Model: \"DNN\"</span>\n",
              "</pre>\n"
            ]
          },
          "metadata": {}
        },
        {
          "output_type": "display_data",
          "data": {
            "text/plain": [
              "┏━━━━━━━━━━━━━━━━━━━━━━━━━━━━━━━━━━━━━┳━━━━━━━━━━━━━━━━━━━━━━━━━━━━━━┳━━━━━━━━━━━━━━━┳━━━━━━━━━┓\n",
              "┃\u001b[1m \u001b[0m\u001b[1mLayer (type)                       \u001b[0m\u001b[1m \u001b[0m┃\u001b[1m \u001b[0m\u001b[1mOutput Shape                \u001b[0m\u001b[1m \u001b[0m┃\u001b[1m \u001b[0m\u001b[1m      Param #\u001b[0m\u001b[1m \u001b[0m┃\u001b[1m \u001b[0m\u001b[1mTraina…\u001b[0m\u001b[1m \u001b[0m┃\n",
              "┡━━━━━━━━━━━━━━━━━━━━━━━━━━━━━━━━━━━━━╇━━━━━━━━━━━━━━━━━━━━━━━━━━━━━━╇━━━━━━━━━━━━━━━╇━━━━━━━━━┩\n",
              "│ input_layer_1 (\u001b[38;5;33mInputLayer\u001b[0m)          │ (\u001b[38;5;45mNone\u001b[0m, \u001b[38;5;34m28\u001b[0m, \u001b[38;5;34m28\u001b[0m, \u001b[38;5;34m1\u001b[0m)            │             \u001b[38;5;34m0\u001b[0m │    \u001b[1m-\u001b[0m    │\n",
              "├─────────────────────────────────────┼──────────────────────────────┼───────────────┼─────────┤\n",
              "│ flatten (\u001b[38;5;33mFlatten\u001b[0m)                   │ (\u001b[38;5;45mNone\u001b[0m, \u001b[38;5;34m784\u001b[0m)                  │             \u001b[38;5;34m0\u001b[0m │    \u001b[1m-\u001b[0m    │\n",
              "├─────────────────────────────────────┼──────────────────────────────┼───────────────┼─────────┤\n",
              "│ dense_4 (\u001b[38;5;33mDense\u001b[0m)                     │ (\u001b[38;5;45mNone\u001b[0m, \u001b[38;5;34m2\u001b[0m)                    │         \u001b[38;5;34m1,570\u001b[0m │    \u001b[1;38;5;34mY\u001b[0m    │\n",
              "├─────────────────────────────────────┼──────────────────────────────┼───────────────┼─────────┤\n",
              "│ dense_5 (\u001b[38;5;33mDense\u001b[0m)                     │ (\u001b[38;5;45mNone\u001b[0m, \u001b[38;5;34m4\u001b[0m)                    │            \u001b[38;5;34m12\u001b[0m │    \u001b[1;38;5;34mY\u001b[0m    │\n",
              "├─────────────────────────────────────┼──────────────────────────────┼───────────────┼─────────┤\n",
              "│ dense_6 (\u001b[38;5;33mDense\u001b[0m)                     │ (\u001b[38;5;45mNone\u001b[0m, \u001b[38;5;34m8\u001b[0m)                    │            \u001b[38;5;34m40\u001b[0m │    \u001b[1;38;5;34mY\u001b[0m    │\n",
              "├─────────────────────────────────────┼──────────────────────────────┼───────────────┼─────────┤\n",
              "│ dense_7 (\u001b[38;5;33mDense\u001b[0m)                     │ (\u001b[38;5;45mNone\u001b[0m, \u001b[38;5;34m16\u001b[0m)                   │           \u001b[38;5;34m144\u001b[0m │    \u001b[1;38;5;34mY\u001b[0m    │\n",
              "├─────────────────────────────────────┼──────────────────────────────┼───────────────┼─────────┤\n",
              "│ dense_8 (\u001b[38;5;33mDense\u001b[0m)                     │ (\u001b[38;5;45mNone\u001b[0m, \u001b[38;5;34m8\u001b[0m)                    │           \u001b[38;5;34m136\u001b[0m │    \u001b[1;38;5;34mY\u001b[0m    │\n",
              "├─────────────────────────────────────┼──────────────────────────────┼───────────────┼─────────┤\n",
              "│ dense_9 (\u001b[38;5;33mDense\u001b[0m)                     │ (\u001b[38;5;45mNone\u001b[0m, \u001b[38;5;34m4\u001b[0m)                    │            \u001b[38;5;34m36\u001b[0m │    \u001b[1;38;5;34mY\u001b[0m    │\n",
              "├─────────────────────────────────────┼──────────────────────────────┼───────────────┼─────────┤\n",
              "│ OutputLayer (\u001b[38;5;33mDense\u001b[0m)                 │ (\u001b[38;5;45mNone\u001b[0m, \u001b[38;5;34m10\u001b[0m)                   │            \u001b[38;5;34m50\u001b[0m │    \u001b[1;38;5;34mY\u001b[0m    │\n",
              "└─────────────────────────────────────┴──────────────────────────────┴───────────────┴─────────┘\n"
            ],
            "text/html": [
              "<pre style=\"white-space:pre;overflow-x:auto;line-height:normal;font-family:Menlo,'DejaVu Sans Mono',consolas,'Courier New',monospace\">┏━━━━━━━━━━━━━━━━━━━━━━━━━━━━━━━━━━━━━┳━━━━━━━━━━━━━━━━━━━━━━━━━━━━━━┳━━━━━━━━━━━━━━━┳━━━━━━━━━┓\n",
              "┃<span style=\"font-weight: bold\"> Layer (type)                        </span>┃<span style=\"font-weight: bold\"> Output Shape                 </span>┃<span style=\"font-weight: bold\">       Param # </span>┃<span style=\"font-weight: bold\"> Traina… </span>┃\n",
              "┡━━━━━━━━━━━━━━━━━━━━━━━━━━━━━━━━━━━━━╇━━━━━━━━━━━━━━━━━━━━━━━━━━━━━━╇━━━━━━━━━━━━━━━╇━━━━━━━━━┩\n",
              "│ input_layer_1 (<span style=\"color: #0087ff; text-decoration-color: #0087ff\">InputLayer</span>)          │ (<span style=\"color: #00d7ff; text-decoration-color: #00d7ff\">None</span>, <span style=\"color: #00af00; text-decoration-color: #00af00\">28</span>, <span style=\"color: #00af00; text-decoration-color: #00af00\">28</span>, <span style=\"color: #00af00; text-decoration-color: #00af00\">1</span>)            │             <span style=\"color: #00af00; text-decoration-color: #00af00\">0</span> │    <span style=\"font-weight: bold\">-</span>    │\n",
              "├─────────────────────────────────────┼──────────────────────────────┼───────────────┼─────────┤\n",
              "│ flatten (<span style=\"color: #0087ff; text-decoration-color: #0087ff\">Flatten</span>)                   │ (<span style=\"color: #00d7ff; text-decoration-color: #00d7ff\">None</span>, <span style=\"color: #00af00; text-decoration-color: #00af00\">784</span>)                  │             <span style=\"color: #00af00; text-decoration-color: #00af00\">0</span> │    <span style=\"font-weight: bold\">-</span>    │\n",
              "├─────────────────────────────────────┼──────────────────────────────┼───────────────┼─────────┤\n",
              "│ dense_4 (<span style=\"color: #0087ff; text-decoration-color: #0087ff\">Dense</span>)                     │ (<span style=\"color: #00d7ff; text-decoration-color: #00d7ff\">None</span>, <span style=\"color: #00af00; text-decoration-color: #00af00\">2</span>)                    │         <span style=\"color: #00af00; text-decoration-color: #00af00\">1,570</span> │    <span style=\"color: #00af00; text-decoration-color: #00af00; font-weight: bold\">Y</span>    │\n",
              "├─────────────────────────────────────┼──────────────────────────────┼───────────────┼─────────┤\n",
              "│ dense_5 (<span style=\"color: #0087ff; text-decoration-color: #0087ff\">Dense</span>)                     │ (<span style=\"color: #00d7ff; text-decoration-color: #00d7ff\">None</span>, <span style=\"color: #00af00; text-decoration-color: #00af00\">4</span>)                    │            <span style=\"color: #00af00; text-decoration-color: #00af00\">12</span> │    <span style=\"color: #00af00; text-decoration-color: #00af00; font-weight: bold\">Y</span>    │\n",
              "├─────────────────────────────────────┼──────────────────────────────┼───────────────┼─────────┤\n",
              "│ dense_6 (<span style=\"color: #0087ff; text-decoration-color: #0087ff\">Dense</span>)                     │ (<span style=\"color: #00d7ff; text-decoration-color: #00d7ff\">None</span>, <span style=\"color: #00af00; text-decoration-color: #00af00\">8</span>)                    │            <span style=\"color: #00af00; text-decoration-color: #00af00\">40</span> │    <span style=\"color: #00af00; text-decoration-color: #00af00; font-weight: bold\">Y</span>    │\n",
              "├─────────────────────────────────────┼──────────────────────────────┼───────────────┼─────────┤\n",
              "│ dense_7 (<span style=\"color: #0087ff; text-decoration-color: #0087ff\">Dense</span>)                     │ (<span style=\"color: #00d7ff; text-decoration-color: #00d7ff\">None</span>, <span style=\"color: #00af00; text-decoration-color: #00af00\">16</span>)                   │           <span style=\"color: #00af00; text-decoration-color: #00af00\">144</span> │    <span style=\"color: #00af00; text-decoration-color: #00af00; font-weight: bold\">Y</span>    │\n",
              "├─────────────────────────────────────┼──────────────────────────────┼───────────────┼─────────┤\n",
              "│ dense_8 (<span style=\"color: #0087ff; text-decoration-color: #0087ff\">Dense</span>)                     │ (<span style=\"color: #00d7ff; text-decoration-color: #00d7ff\">None</span>, <span style=\"color: #00af00; text-decoration-color: #00af00\">8</span>)                    │           <span style=\"color: #00af00; text-decoration-color: #00af00\">136</span> │    <span style=\"color: #00af00; text-decoration-color: #00af00; font-weight: bold\">Y</span>    │\n",
              "├─────────────────────────────────────┼──────────────────────────────┼───────────────┼─────────┤\n",
              "│ dense_9 (<span style=\"color: #0087ff; text-decoration-color: #0087ff\">Dense</span>)                     │ (<span style=\"color: #00d7ff; text-decoration-color: #00d7ff\">None</span>, <span style=\"color: #00af00; text-decoration-color: #00af00\">4</span>)                    │            <span style=\"color: #00af00; text-decoration-color: #00af00\">36</span> │    <span style=\"color: #00af00; text-decoration-color: #00af00; font-weight: bold\">Y</span>    │\n",
              "├─────────────────────────────────────┼──────────────────────────────┼───────────────┼─────────┤\n",
              "│ OutputLayer (<span style=\"color: #0087ff; text-decoration-color: #0087ff\">Dense</span>)                 │ (<span style=\"color: #00d7ff; text-decoration-color: #00d7ff\">None</span>, <span style=\"color: #00af00; text-decoration-color: #00af00\">10</span>)                   │            <span style=\"color: #00af00; text-decoration-color: #00af00\">50</span> │    <span style=\"color: #00af00; text-decoration-color: #00af00; font-weight: bold\">Y</span>    │\n",
              "└─────────────────────────────────────┴──────────────────────────────┴───────────────┴─────────┘\n",
              "</pre>\n"
            ]
          },
          "metadata": {}
        },
        {
          "output_type": "display_data",
          "data": {
            "text/plain": [
              "\u001b[1m Total params: \u001b[0m\u001b[38;5;34m1,988\u001b[0m (7.77 KB)\n"
            ],
            "text/html": [
              "<pre style=\"white-space:pre;overflow-x:auto;line-height:normal;font-family:Menlo,'DejaVu Sans Mono',consolas,'Courier New',monospace\"><span style=\"font-weight: bold\"> Total params: </span><span style=\"color: #00af00; text-decoration-color: #00af00\">1,988</span> (7.77 KB)\n",
              "</pre>\n"
            ]
          },
          "metadata": {}
        },
        {
          "output_type": "display_data",
          "data": {
            "text/plain": [
              "\u001b[1m Trainable params: \u001b[0m\u001b[38;5;34m1,988\u001b[0m (7.77 KB)\n"
            ],
            "text/html": [
              "<pre style=\"white-space:pre;overflow-x:auto;line-height:normal;font-family:Menlo,'DejaVu Sans Mono',consolas,'Courier New',monospace\"><span style=\"font-weight: bold\"> Trainable params: </span><span style=\"color: #00af00; text-decoration-color: #00af00\">1,988</span> (7.77 KB)\n",
              "</pre>\n"
            ]
          },
          "metadata": {}
        },
        {
          "output_type": "display_data",
          "data": {
            "text/plain": [
              "\u001b[1m Non-trainable params: \u001b[0m\u001b[38;5;34m0\u001b[0m (0.00 B)\n"
            ],
            "text/html": [
              "<pre style=\"white-space:pre;overflow-x:auto;line-height:normal;font-family:Menlo,'DejaVu Sans Mono',consolas,'Courier New',monospace\"><span style=\"font-weight: bold\"> Non-trainable params: </span><span style=\"color: #00af00; text-decoration-color: #00af00\">0</span> (0.00 B)\n",
              "</pre>\n"
            ]
          },
          "metadata": {}
        }
      ]
    },
    {
      "cell_type": "markdown",
      "source": [
        "Build a fully connected neural network (FCNN) and a convolutional neural network (CNN) for classifying 10 classes of images.\n",
        "\n",
        "CNN"
      ],
      "metadata": {
        "id": "BB1Hm_2hDkvQ"
      }
    },
    {
      "cell_type": "code",
      "source": [
        "import tensorflow as tf\n",
        "from tensorflow.keras.layers import Input, Conv2D, MaxPooling2D, Flatten, Dense, Dropout\n",
        "from tensorflow.keras.models import Model, Sequential\n",
        "\n",
        "num_classes = 10\n",
        "inputs = Input((28, 28, 1))\n",
        "x = Conv2D(32, (3, 3), activation='relu')(inputs)\n",
        "x = MaxPooling2D(pool_size=(2, 2))(x)\n",
        "x = Conv2D(64, (3, 3), activation='relu')(x)\n",
        "x = MaxPooling2D(pool_size=(2, 2))(x)\n",
        "x = Flatten()(x)\n",
        "x = Dense(128, activation='relu')(x)\n",
        "outputs = Dense(num_classes, activation='softmax', name='CNN_OutputLayer')(x)\n",
        "model = Model(inputs, outputs, name='CNN')\n",
        "model.summary()"
      ],
      "metadata": {
        "colab": {
          "base_uri": "https://localhost:8080/",
          "height": 385
        },
        "id": "utWSatJMEjj3",
        "outputId": "1350f8fe-bd5d-4fc1-c036-fc9735e47589"
      },
      "execution_count": null,
      "outputs": [
        {
          "output_type": "display_data",
          "data": {
            "text/plain": [
              "\u001b[1mModel: \"CNN\"\u001b[0m\n"
            ],
            "text/html": [
              "<pre style=\"white-space:pre;overflow-x:auto;line-height:normal;font-family:Menlo,'DejaVu Sans Mono',consolas,'Courier New',monospace\"><span style=\"font-weight: bold\">Model: \"CNN\"</span>\n",
              "</pre>\n"
            ]
          },
          "metadata": {}
        },
        {
          "output_type": "display_data",
          "data": {
            "text/plain": [
              "┏━━━━━━━━━━━━━━━━━━━━━━━━━━━━━━━━━━━━━━┳━━━━━━━━━━━━━━━━━━━━━━━━━━━━━┳━━━━━━━━━━━━━━━━━┓\n",
              "┃\u001b[1m \u001b[0m\u001b[1mLayer (type)                        \u001b[0m\u001b[1m \u001b[0m┃\u001b[1m \u001b[0m\u001b[1mOutput Shape               \u001b[0m\u001b[1m \u001b[0m┃\u001b[1m \u001b[0m\u001b[1m        Param #\u001b[0m\u001b[1m \u001b[0m┃\n",
              "┡━━━━━━━━━━━━━━━━━━━━━━━━━━━━━━━━━━━━━━╇━━━━━━━━━━━━━━━━━━━━━━━━━━━━━╇━━━━━━━━━━━━━━━━━┩\n",
              "│ input_layer_2 (\u001b[38;5;33mInputLayer\u001b[0m)           │ (\u001b[38;5;45mNone\u001b[0m, \u001b[38;5;34m28\u001b[0m, \u001b[38;5;34m28\u001b[0m, \u001b[38;5;34m1\u001b[0m)           │               \u001b[38;5;34m0\u001b[0m │\n",
              "├──────────────────────────────────────┼─────────────────────────────┼─────────────────┤\n",
              "│ conv2d (\u001b[38;5;33mConv2D\u001b[0m)                      │ (\u001b[38;5;45mNone\u001b[0m, \u001b[38;5;34m26\u001b[0m, \u001b[38;5;34m26\u001b[0m, \u001b[38;5;34m32\u001b[0m)          │             \u001b[38;5;34m320\u001b[0m │\n",
              "├──────────────────────────────────────┼─────────────────────────────┼─────────────────┤\n",
              "│ max_pooling2d (\u001b[38;5;33mMaxPooling2D\u001b[0m)         │ (\u001b[38;5;45mNone\u001b[0m, \u001b[38;5;34m13\u001b[0m, \u001b[38;5;34m13\u001b[0m, \u001b[38;5;34m32\u001b[0m)          │               \u001b[38;5;34m0\u001b[0m │\n",
              "├──────────────────────────────────────┼─────────────────────────────┼─────────────────┤\n",
              "│ conv2d_1 (\u001b[38;5;33mConv2D\u001b[0m)                    │ (\u001b[38;5;45mNone\u001b[0m, \u001b[38;5;34m11\u001b[0m, \u001b[38;5;34m11\u001b[0m, \u001b[38;5;34m64\u001b[0m)          │          \u001b[38;5;34m18,496\u001b[0m │\n",
              "├──────────────────────────────────────┼─────────────────────────────┼─────────────────┤\n",
              "│ max_pooling2d_1 (\u001b[38;5;33mMaxPooling2D\u001b[0m)       │ (\u001b[38;5;45mNone\u001b[0m, \u001b[38;5;34m5\u001b[0m, \u001b[38;5;34m5\u001b[0m, \u001b[38;5;34m64\u001b[0m)            │               \u001b[38;5;34m0\u001b[0m │\n",
              "├──────────────────────────────────────┼─────────────────────────────┼─────────────────┤\n",
              "│ flatten_1 (\u001b[38;5;33mFlatten\u001b[0m)                  │ (\u001b[38;5;45mNone\u001b[0m, \u001b[38;5;34m1600\u001b[0m)                │               \u001b[38;5;34m0\u001b[0m │\n",
              "├──────────────────────────────────────┼─────────────────────────────┼─────────────────┤\n",
              "│ dense_10 (\u001b[38;5;33mDense\u001b[0m)                     │ (\u001b[38;5;45mNone\u001b[0m, \u001b[38;5;34m128\u001b[0m)                 │         \u001b[38;5;34m204,928\u001b[0m │\n",
              "├──────────────────────────────────────┼─────────────────────────────┼─────────────────┤\n",
              "│ CNN_OutputLayer (\u001b[38;5;33mDense\u001b[0m)              │ (\u001b[38;5;45mNone\u001b[0m, \u001b[38;5;34m10\u001b[0m)                  │           \u001b[38;5;34m1,290\u001b[0m │\n",
              "└──────────────────────────────────────┴─────────────────────────────┴─────────────────┘\n"
            ],
            "text/html": [
              "<pre style=\"white-space:pre;overflow-x:auto;line-height:normal;font-family:Menlo,'DejaVu Sans Mono',consolas,'Courier New',monospace\">┏━━━━━━━━━━━━━━━━━━━━━━━━━━━━━━━━━━━━━━┳━━━━━━━━━━━━━━━━━━━━━━━━━━━━━┳━━━━━━━━━━━━━━━━━┓\n",
              "┃<span style=\"font-weight: bold\"> Layer (type)                         </span>┃<span style=\"font-weight: bold\"> Output Shape                </span>┃<span style=\"font-weight: bold\">         Param # </span>┃\n",
              "┡━━━━━━━━━━━━━━━━━━━━━━━━━━━━━━━━━━━━━━╇━━━━━━━━━━━━━━━━━━━━━━━━━━━━━╇━━━━━━━━━━━━━━━━━┩\n",
              "│ input_layer_2 (<span style=\"color: #0087ff; text-decoration-color: #0087ff\">InputLayer</span>)           │ (<span style=\"color: #00d7ff; text-decoration-color: #00d7ff\">None</span>, <span style=\"color: #00af00; text-decoration-color: #00af00\">28</span>, <span style=\"color: #00af00; text-decoration-color: #00af00\">28</span>, <span style=\"color: #00af00; text-decoration-color: #00af00\">1</span>)           │               <span style=\"color: #00af00; text-decoration-color: #00af00\">0</span> │\n",
              "├──────────────────────────────────────┼─────────────────────────────┼─────────────────┤\n",
              "│ conv2d (<span style=\"color: #0087ff; text-decoration-color: #0087ff\">Conv2D</span>)                      │ (<span style=\"color: #00d7ff; text-decoration-color: #00d7ff\">None</span>, <span style=\"color: #00af00; text-decoration-color: #00af00\">26</span>, <span style=\"color: #00af00; text-decoration-color: #00af00\">26</span>, <span style=\"color: #00af00; text-decoration-color: #00af00\">32</span>)          │             <span style=\"color: #00af00; text-decoration-color: #00af00\">320</span> │\n",
              "├──────────────────────────────────────┼─────────────────────────────┼─────────────────┤\n",
              "│ max_pooling2d (<span style=\"color: #0087ff; text-decoration-color: #0087ff\">MaxPooling2D</span>)         │ (<span style=\"color: #00d7ff; text-decoration-color: #00d7ff\">None</span>, <span style=\"color: #00af00; text-decoration-color: #00af00\">13</span>, <span style=\"color: #00af00; text-decoration-color: #00af00\">13</span>, <span style=\"color: #00af00; text-decoration-color: #00af00\">32</span>)          │               <span style=\"color: #00af00; text-decoration-color: #00af00\">0</span> │\n",
              "├──────────────────────────────────────┼─────────────────────────────┼─────────────────┤\n",
              "│ conv2d_1 (<span style=\"color: #0087ff; text-decoration-color: #0087ff\">Conv2D</span>)                    │ (<span style=\"color: #00d7ff; text-decoration-color: #00d7ff\">None</span>, <span style=\"color: #00af00; text-decoration-color: #00af00\">11</span>, <span style=\"color: #00af00; text-decoration-color: #00af00\">11</span>, <span style=\"color: #00af00; text-decoration-color: #00af00\">64</span>)          │          <span style=\"color: #00af00; text-decoration-color: #00af00\">18,496</span> │\n",
              "├──────────────────────────────────────┼─────────────────────────────┼─────────────────┤\n",
              "│ max_pooling2d_1 (<span style=\"color: #0087ff; text-decoration-color: #0087ff\">MaxPooling2D</span>)       │ (<span style=\"color: #00d7ff; text-decoration-color: #00d7ff\">None</span>, <span style=\"color: #00af00; text-decoration-color: #00af00\">5</span>, <span style=\"color: #00af00; text-decoration-color: #00af00\">5</span>, <span style=\"color: #00af00; text-decoration-color: #00af00\">64</span>)            │               <span style=\"color: #00af00; text-decoration-color: #00af00\">0</span> │\n",
              "├──────────────────────────────────────┼─────────────────────────────┼─────────────────┤\n",
              "│ flatten_1 (<span style=\"color: #0087ff; text-decoration-color: #0087ff\">Flatten</span>)                  │ (<span style=\"color: #00d7ff; text-decoration-color: #00d7ff\">None</span>, <span style=\"color: #00af00; text-decoration-color: #00af00\">1600</span>)                │               <span style=\"color: #00af00; text-decoration-color: #00af00\">0</span> │\n",
              "├──────────────────────────────────────┼─────────────────────────────┼─────────────────┤\n",
              "│ dense_10 (<span style=\"color: #0087ff; text-decoration-color: #0087ff\">Dense</span>)                     │ (<span style=\"color: #00d7ff; text-decoration-color: #00d7ff\">None</span>, <span style=\"color: #00af00; text-decoration-color: #00af00\">128</span>)                 │         <span style=\"color: #00af00; text-decoration-color: #00af00\">204,928</span> │\n",
              "├──────────────────────────────────────┼─────────────────────────────┼─────────────────┤\n",
              "│ CNN_OutputLayer (<span style=\"color: #0087ff; text-decoration-color: #0087ff\">Dense</span>)              │ (<span style=\"color: #00d7ff; text-decoration-color: #00d7ff\">None</span>, <span style=\"color: #00af00; text-decoration-color: #00af00\">10</span>)                  │           <span style=\"color: #00af00; text-decoration-color: #00af00\">1,290</span> │\n",
              "└──────────────────────────────────────┴─────────────────────────────┴─────────────────┘\n",
              "</pre>\n"
            ]
          },
          "metadata": {}
        },
        {
          "output_type": "display_data",
          "data": {
            "text/plain": [
              "\u001b[1m Total params: \u001b[0m\u001b[38;5;34m225,034\u001b[0m (879.04 KB)\n"
            ],
            "text/html": [
              "<pre style=\"white-space:pre;overflow-x:auto;line-height:normal;font-family:Menlo,'DejaVu Sans Mono',consolas,'Courier New',monospace\"><span style=\"font-weight: bold\"> Total params: </span><span style=\"color: #00af00; text-decoration-color: #00af00\">225,034</span> (879.04 KB)\n",
              "</pre>\n"
            ]
          },
          "metadata": {}
        },
        {
          "output_type": "display_data",
          "data": {
            "text/plain": [
              "\u001b[1m Trainable params: \u001b[0m\u001b[38;5;34m225,034\u001b[0m (879.04 KB)\n"
            ],
            "text/html": [
              "<pre style=\"white-space:pre;overflow-x:auto;line-height:normal;font-family:Menlo,'DejaVu Sans Mono',consolas,'Courier New',monospace\"><span style=\"font-weight: bold\"> Trainable params: </span><span style=\"color: #00af00; text-decoration-color: #00af00\">225,034</span> (879.04 KB)\n",
              "</pre>\n"
            ]
          },
          "metadata": {}
        },
        {
          "output_type": "display_data",
          "data": {
            "text/plain": [
              "\u001b[1m Non-trainable params: \u001b[0m\u001b[38;5;34m0\u001b[0m (0.00 B)\n"
            ],
            "text/html": [
              "<pre style=\"white-space:pre;overflow-x:auto;line-height:normal;font-family:Menlo,'DejaVu Sans Mono',consolas,'Courier New',monospace\"><span style=\"font-weight: bold\"> Non-trainable params: </span><span style=\"color: #00af00; text-decoration-color: #00af00\">0</span> (0.00 B)\n",
              "</pre>\n"
            ]
          },
          "metadata": {}
        }
      ]
    },
    {
      "cell_type": "markdown",
      "source": [
        "Train and test your FCNN and CNN by the Fashion dataset. Discuss your results by comparing performance between two types of networks."
      ],
      "metadata": {
        "id": "hZ_oDMIlEpS3"
      }
    },
    {
      "cell_type": "code",
      "source": [
        "import tensorflow as tf\n",
        "from tensorflow.keras.layers import Input, Conv2D, MaxPooling2D, Flatten, Dense, Dropout\n",
        "from tensorflow.keras.models import Model\n",
        "from tensorflow.keras.datasets import fashion_mnist\n",
        "\n",
        "num_classes = 10\n",
        "inputs = Input((28, 28, 1))\n",
        "x = Flatten()(inputs)\n",
        "x = Dense(256, \"relu\")(x)\n",
        "x = Dense(512, activation='relu')(x)\n",
        "x = Dense(256, activation='relu')(x)\n",
        "x = Dense(128, activation='relu')(x)\n",
        "outputs = Dense(num_classes, activation='softmax', name='FCNN_OutputLayer')(x)\n",
        "model = Model(inputs, outputs, name='FCNN')\n",
        "model.compile(optimizer=tf.keras.optimizers.Adam(learning_rate=0.001), loss='sparse_categorical_crossentropy', metrics=['accuracy'])\n",
        "(X_train, y_train), (X_test, y_test) = fashion_mnist.load_data()\n",
        "X_train = X_train.reshape(-1, 28, 28, 1).astype('float32') / 255.0  # Normalize and reshape\n",
        "X_test = X_test.reshape(-1, 28, 28, 1).astype('float32') / 255.0    # Normalize and reshape\n",
        "\n",
        "print(\"==========   FCNN   ==========\")\n",
        "history = model.fit(X_train, y_train, epochs=10, batch_size=64, validation_split=0.2, verbose=1)\n",
        "\n",
        "print(\"\\n=============================\")\n",
        "loss, accuracy = model.evaluate(X_test, y_test, verbose=1)\n",
        "print(f\"FCNN Test Accuracy: {accuracy:.4f}\")\n",
        "\n",
        "# CNN\n",
        "cinputs = Input((28, 28, 1))\n",
        "cx = Conv2D(32, (3, 3), activation='relu')(cinputs)\n",
        "cx = MaxPooling2D(pool_size=(2, 2))(cx)\n",
        "cx = Conv2D(64, (3, 3), activation='relu')(cx)\n",
        "cx = MaxPooling2D(pool_size=(2, 2))(cx)\n",
        "cx = Flatten()(cx)\n",
        "cx = Dense(128, activation='relu')(cx)\n",
        "coutputs = Dense(num_classes, activation='softmax', name='CNN_OutputLayer')(cx)\n",
        "cmodel = Model(cinputs, coutputs, name='CNN')\n",
        "cmodel.compile(optimizer=tf.keras.optimizers.Adam(learning_rate=0.001), loss='sparse_categorical_crossentropy', metrics=['accuracy'])\n",
        "\n",
        "print(\"\\n========== CNN ==========\")\n",
        "chistory = cmodel.fit(X_train, y_train, epochs=10, batch_size=64, validation_split=0.2, verbose=1)\n",
        "\n",
        "print(\"\\n==========================\")\n",
        "closs, caccuracy = cmodel.evaluate(X_test, y_test, verbose=1)\n",
        "print(f\"CNN Test Accuracy: {caccuracy:.4f}\")"
      ],
      "metadata": {
        "colab": {
          "base_uri": "https://localhost:8080/"
        },
        "id": "XTTskApBEtGK",
        "outputId": "54ec13dd-1799-40ca-dea7-df196a69052a"
      },
      "execution_count": null,
      "outputs": [
        {
          "output_type": "stream",
          "name": "stdout",
          "text": [
            "==========   FCNN   ==========\n",
            "Epoch 1/10\n",
            "\u001b[1m750/750\u001b[0m \u001b[32m━━━━━━━━━━━━━━━━━━━━\u001b[0m\u001b[37m\u001b[0m \u001b[1m12s\u001b[0m 14ms/step - accuracy: 0.7635 - loss: 0.6640 - val_accuracy: 0.8454 - val_loss: 0.4234\n",
            "Epoch 2/10\n",
            "\u001b[1m750/750\u001b[0m \u001b[32m━━━━━━━━━━━━━━━━━━━━\u001b[0m\u001b[37m\u001b[0m \u001b[1m9s\u001b[0m 12ms/step - accuracy: 0.8580 - loss: 0.3849 - val_accuracy: 0.8666 - val_loss: 0.3694\n",
            "Epoch 3/10\n",
            "\u001b[1m750/750\u001b[0m \u001b[32m━━━━━━━━━━━━━━━━━━━━\u001b[0m\u001b[37m\u001b[0m \u001b[1m11s\u001b[0m 14ms/step - accuracy: 0.8773 - loss: 0.3315 - val_accuracy: 0.8668 - val_loss: 0.3691\n",
            "Epoch 4/10\n",
            "\u001b[1m750/750\u001b[0m \u001b[32m━━━━━━━━━━━━━━━━━━━━\u001b[0m\u001b[37m\u001b[0m \u001b[1m10s\u001b[0m 14ms/step - accuracy: 0.8875 - loss: 0.3054 - val_accuracy: 0.8736 - val_loss: 0.3392\n",
            "Epoch 5/10\n",
            "\u001b[1m750/750\u001b[0m \u001b[32m━━━━━━━━━━━━━━━━━━━━\u001b[0m\u001b[37m\u001b[0m \u001b[1m19s\u001b[0m 13ms/step - accuracy: 0.8889 - loss: 0.2909 - val_accuracy: 0.8842 - val_loss: 0.3253\n",
            "Epoch 6/10\n",
            "\u001b[1m750/750\u001b[0m \u001b[32m━━━━━━━━━━━━━━━━━━━━\u001b[0m\u001b[37m\u001b[0m \u001b[1m12s\u001b[0m 14ms/step - accuracy: 0.8954 - loss: 0.2745 - val_accuracy: 0.8883 - val_loss: 0.3153\n",
            "Epoch 7/10\n",
            "\u001b[1m750/750\u001b[0m \u001b[32m━━━━━━━━━━━━━━━━━━━━\u001b[0m\u001b[37m\u001b[0m \u001b[1m20s\u001b[0m 13ms/step - accuracy: 0.9007 - loss: 0.2599 - val_accuracy: 0.8854 - val_loss: 0.3145\n",
            "Epoch 8/10\n",
            "\u001b[1m750/750\u001b[0m \u001b[32m━━━━━━━━━━━━━━━━━━━━\u001b[0m\u001b[37m\u001b[0m \u001b[1m10s\u001b[0m 13ms/step - accuracy: 0.9042 - loss: 0.2485 - val_accuracy: 0.8818 - val_loss: 0.3458\n",
            "Epoch 9/10\n",
            "\u001b[1m750/750\u001b[0m \u001b[32m━━━━━━━━━━━━━━━━━━━━\u001b[0m\u001b[37m\u001b[0m \u001b[1m11s\u001b[0m 14ms/step - accuracy: 0.9093 - loss: 0.2389 - val_accuracy: 0.8878 - val_loss: 0.3160\n",
            "Epoch 10/10\n",
            "\u001b[1m750/750\u001b[0m \u001b[32m━━━━━━━━━━━━━━━━━━━━\u001b[0m\u001b[37m\u001b[0m \u001b[1m21s\u001b[0m 15ms/step - accuracy: 0.9123 - loss: 0.2296 - val_accuracy: 0.8923 - val_loss: 0.3305\n",
            "\n",
            "=============================\n",
            "\u001b[1m313/313\u001b[0m \u001b[32m━━━━━━━━━━━━━━━━━━━━\u001b[0m\u001b[37m\u001b[0m \u001b[1m2s\u001b[0m 5ms/step - accuracy: 0.8840 - loss: 0.3552\n",
            "FCNN Test Accuracy: 0.8821\n",
            "\n",
            "========== CNN ==========\n",
            "Epoch 1/10\n",
            "\u001b[1m750/750\u001b[0m \u001b[32m━━━━━━━━━━━━━━━━━━━━\u001b[0m\u001b[37m\u001b[0m \u001b[1m55s\u001b[0m 71ms/step - accuracy: 0.7358 - loss: 0.7441 - val_accuracy: 0.8587 - val_loss: 0.3891\n",
            "Epoch 2/10\n",
            "\u001b[1m750/750\u001b[0m \u001b[32m━━━━━━━━━━━━━━━━━━━━\u001b[0m\u001b[37m\u001b[0m \u001b[1m53s\u001b[0m 71ms/step - accuracy: 0.8741 - loss: 0.3506 - val_accuracy: 0.8882 - val_loss: 0.3223\n",
            "Epoch 3/10\n",
            "\u001b[1m750/750\u001b[0m \u001b[32m━━━━━━━━━━━━━━━━━━━━\u001b[0m\u001b[37m\u001b[0m \u001b[1m79s\u001b[0m 67ms/step - accuracy: 0.8910 - loss: 0.3006 - val_accuracy: 0.8852 - val_loss: 0.3166\n",
            "Epoch 4/10\n",
            "\u001b[1m750/750\u001b[0m \u001b[32m━━━━━━━━━━━━━━━━━━━━\u001b[0m\u001b[37m\u001b[0m \u001b[1m52s\u001b[0m 69ms/step - accuracy: 0.9041 - loss: 0.2617 - val_accuracy: 0.8951 - val_loss: 0.2883\n",
            "Epoch 5/10\n",
            "\u001b[1m750/750\u001b[0m \u001b[32m━━━━━━━━━━━━━━━━━━━━\u001b[0m\u001b[37m\u001b[0m \u001b[1m52s\u001b[0m 69ms/step - accuracy: 0.9138 - loss: 0.2351 - val_accuracy: 0.9037 - val_loss: 0.2682\n",
            "Epoch 6/10\n",
            "\u001b[1m750/750\u001b[0m \u001b[32m━━━━━━━━━━━━━━━━━━━━\u001b[0m\u001b[37m\u001b[0m \u001b[1m83s\u001b[0m 70ms/step - accuracy: 0.9199 - loss: 0.2155 - val_accuracy: 0.9006 - val_loss: 0.2685\n",
            "Epoch 7/10\n",
            "\u001b[1m750/750\u001b[0m \u001b[32m━━━━━━━━━━━━━━━━━━━━\u001b[0m\u001b[37m\u001b[0m \u001b[1m81s\u001b[0m 69ms/step - accuracy: 0.9303 - loss: 0.1915 - val_accuracy: 0.9103 - val_loss: 0.2474\n",
            "Epoch 8/10\n",
            "\u001b[1m750/750\u001b[0m \u001b[32m━━━━━━━━━━━━━━━━━━━━\u001b[0m\u001b[37m\u001b[0m \u001b[1m82s\u001b[0m 69ms/step - accuracy: 0.9352 - loss: 0.1771 - val_accuracy: 0.9137 - val_loss: 0.2470\n",
            "Epoch 9/10\n",
            "\u001b[1m750/750\u001b[0m \u001b[32m━━━━━━━━━━━━━━━━━━━━\u001b[0m\u001b[37m\u001b[0m \u001b[1m50s\u001b[0m 66ms/step - accuracy: 0.9407 - loss: 0.1592 - val_accuracy: 0.9038 - val_loss: 0.2744\n",
            "Epoch 10/10\n",
            "\u001b[1m750/750\u001b[0m \u001b[32m━━━━━━━━━━━━━━━━━━━━\u001b[0m\u001b[37m\u001b[0m \u001b[1m84s\u001b[0m 69ms/step - accuracy: 0.9465 - loss: 0.1432 - val_accuracy: 0.9074 - val_loss: 0.2764\n",
            "\n",
            "==========================\n",
            "\u001b[1m313/313\u001b[0m \u001b[32m━━━━━━━━━━━━━━━━━━━━\u001b[0m\u001b[37m\u001b[0m \u001b[1m3s\u001b[0m 9ms/step - accuracy: 0.9014 - loss: 0.3111\n",
            "CNN Test Accuracy: 0.9025\n"
          ]
        }
      ]
    },
    {
      "cell_type": "markdown",
      "source": [
        "Build a CNN having a pre-trained MobileNet as backbone to classify 10 classes."
      ],
      "metadata": {
        "id": "u7RsROlyPice"
      }
    },
    {
      "cell_type": "code",
      "source": [
        "import tensorflow as tf\n",
        "from tensorflow.keras.applications import MobileNet\n",
        "from tensorflow.keras.layers import Dense, GlobalAveragePooling2D, Input\n",
        "from tensorflow.keras.models import Model\n",
        "from tensorflow.keras.datasets import cifar10\n",
        "from tensorflow.keras.utils import to_categorical\n",
        "from tensorflow.keras.applications.mobilenet import preprocess_input\n",
        "\n",
        "(x_train, y_train), (x_test, y_test) = cifar10.load_data()\n",
        "x_train = tf.image.resize(x_train, (64, 64)).numpy()\n",
        "x_test = tf.image.resize(x_test, (64, 64)).numpy()\n",
        "x_train = preprocess_input(x_train.astype('float32'))\n",
        "x_test = preprocess_input(x_test.astype('float32'))\n",
        "y_train = to_categorical(y_train, 10)\n",
        "y_test = to_categorical(y_test, 10)\n",
        "\n",
        "base_model = MobileNet(weights='imagenet', include_top=False, input_tensor=Input(shape=(64, 64, 3)))\n",
        "x = base_model.output\n",
        "x = GlobalAveragePooling2D()(x)\n",
        "x = Dense(256, activation='relu')(x)\n",
        "outputs = Dense(10, activation='softmax')(x)\n",
        "model = Model(inputs=base_model.input, outputs=outputs)\n",
        "\n",
        "for layer in base_model.layers:\n",
        "    layer.trainable = False\n",
        "\n",
        "model.compile(optimizer=tf.keras.optimizers.Adam(learning_rate=0.001), loss='categorical_crossentropy', metrics=['accuracy'])\n",
        "history = model.fit(x_train, y_train, validation_data=(x_test, y_test), epochs=5, batch_size=64)\n",
        "\n",
        "loss, accuracy = model.evaluate(x_test, y_test, verbose=1)\n",
        "print(f\"Test Accuracy after Transfer Learning: {accuracy:.4f}\")\n",
        "\n",
        "for layer in base_model.layers[-20:]:\n",
        "    layer.trainable = True\n",
        "\n",
        "model.compile(optimizer=tf.keras.optimizers.Adam(learning_rate=0.0001), loss='categorical_crossentropy', metrics=['accuracy'])\n",
        "history_fine_tune = model.fit(x_train, y_train, validation_data=(x_test, y_test), epochs=5, batch_size=64)\n",
        "\n",
        "loss, accuracy = model.evaluate(x_test, y_test, verbose=1)\n",
        "print(f\"Test Accuracy after Fine-Tuning: {accuracy:.4f}\")"
      ],
      "metadata": {
        "colab": {
          "base_uri": "https://localhost:8080/"
        },
        "id": "H9c6NwgePkr2",
        "outputId": "04e39964-155f-4208-f7b1-756e4e3e7da0"
      },
      "execution_count": null,
      "outputs": [
        {
          "output_type": "stream",
          "name": "stdout",
          "text": [
            "Downloading data from https://www.cs.toronto.edu/~kriz/cifar-10-python.tar.gz\n",
            "\u001b[1m170498071/170498071\u001b[0m \u001b[32m━━━━━━━━━━━━━━━━━━━━\u001b[0m\u001b[37m\u001b[0m \u001b[1m2s\u001b[0m 0us/step\n"
          ]
        },
        {
          "output_type": "stream",
          "name": "stderr",
          "text": [
            "<ipython-input-6-7fe0d6d99c05>:17: UserWarning: `input_shape` is undefined or non-square, or `rows` is not in [128, 160, 192, 224]. Weights for input shape (224, 224) will be loaded as the default.\n",
            "  base_model = MobileNet(weights='imagenet', include_top=False, input_tensor=Input(shape=(64, 64, 3)))\n"
          ]
        },
        {
          "output_type": "stream",
          "name": "stdout",
          "text": [
            "Downloading data from https://storage.googleapis.com/tensorflow/keras-applications/mobilenet/mobilenet_1_0_224_tf_no_top.h5\n",
            "\u001b[1m17225924/17225924\u001b[0m \u001b[32m━━━━━━━━━━━━━━━━━━━━\u001b[0m\u001b[37m\u001b[0m \u001b[1m0s\u001b[0m 0us/step\n",
            "Epoch 1/5\n",
            "\u001b[1m782/782\u001b[0m \u001b[32m━━━━━━━━━━━━━━━━━━━━\u001b[0m\u001b[37m\u001b[0m \u001b[1m240s\u001b[0m 301ms/step - accuracy: 0.6541 - loss: 1.0172 - val_accuracy: 0.7461 - val_loss: 0.7441\n",
            "Epoch 2/5\n",
            "\u001b[1m782/782\u001b[0m \u001b[32m━━━━━━━━━━━━━━━━━━━━\u001b[0m\u001b[37m\u001b[0m \u001b[1m241s\u001b[0m 275ms/step - accuracy: 0.7903 - loss: 0.6009 - val_accuracy: 0.7452 - val_loss: 0.7470\n",
            "Epoch 3/5\n",
            "\u001b[1m782/782\u001b[0m \u001b[32m━━━━━━━━━━━━━━━━━━━━\u001b[0m\u001b[37m\u001b[0m \u001b[1m261s\u001b[0m 274ms/step - accuracy: 0.8426 - loss: 0.4605 - val_accuracy: 0.7430 - val_loss: 0.7914\n",
            "Epoch 4/5\n",
            "\u001b[1m782/782\u001b[0m \u001b[32m━━━━━━━━━━━━━━━━━━━━\u001b[0m\u001b[37m\u001b[0m \u001b[1m259s\u001b[0m 270ms/step - accuracy: 0.8897 - loss: 0.3366 - val_accuracy: 0.7424 - val_loss: 0.8340\n",
            "Epoch 5/5\n",
            "\u001b[1m782/782\u001b[0m \u001b[32m━━━━━━━━━━━━━━━━━━━━\u001b[0m\u001b[37m\u001b[0m \u001b[1m268s\u001b[0m 278ms/step - accuracy: 0.9274 - loss: 0.2357 - val_accuracy: 0.7423 - val_loss: 0.9026\n",
            "\u001b[1m313/313\u001b[0m \u001b[32m━━━━━━━━━━━━━━━━━━━━\u001b[0m\u001b[37m\u001b[0m \u001b[1m38s\u001b[0m 120ms/step - accuracy: 0.7421 - loss: 0.9029\n",
            "Test Accuracy after Transfer Learning: 0.7423\n",
            "Epoch 1/5\n",
            "\u001b[1m782/782\u001b[0m \u001b[32m━━━━━━━━━━━━━━━━━━━━\u001b[0m\u001b[37m\u001b[0m \u001b[1m706s\u001b[0m 892ms/step - accuracy: 0.7116 - loss: 1.0253 - val_accuracy: 0.7594 - val_loss: 0.7448\n",
            "Epoch 2/5\n",
            "\u001b[1m782/782\u001b[0m \u001b[32m━━━━━━━━━━━━━━━━━━━━\u001b[0m\u001b[37m\u001b[0m \u001b[1m745s\u001b[0m 896ms/step - accuracy: 0.8509 - loss: 0.4225 - val_accuracy: 0.7768 - val_loss: 0.7093\n",
            "Epoch 3/5\n",
            "\u001b[1m782/782\u001b[0m \u001b[32m━━━━━━━━━━━━━━━━━━━━\u001b[0m\u001b[37m\u001b[0m \u001b[1m701s\u001b[0m 896ms/step - accuracy: 0.8993 - loss: 0.2802 - val_accuracy: 0.7880 - val_loss: 0.7399\n",
            "Epoch 4/5\n",
            "\u001b[1m782/782\u001b[0m \u001b[32m━━━━━━━━━━━━━━━━━━━━\u001b[0m\u001b[37m\u001b[0m \u001b[1m730s\u001b[0m 881ms/step - accuracy: 0.9331 - loss: 0.1949 - val_accuracy: 0.7966 - val_loss: 0.7279\n",
            "Epoch 5/5\n",
            "\u001b[1m782/782\u001b[0m \u001b[32m━━━━━━━━━━━━━━━━━━━━\u001b[0m\u001b[37m\u001b[0m \u001b[1m694s\u001b[0m 888ms/step - accuracy: 0.9528 - loss: 0.1357 - val_accuracy: 0.7968 - val_loss: 0.7636\n",
            "\u001b[1m313/313\u001b[0m \u001b[32m━━━━━━━━━━━━━━━━━━━━\u001b[0m\u001b[37m\u001b[0m \u001b[1m36s\u001b[0m 116ms/step - accuracy: 0.7985 - loss: 0.7721\n",
            "Test Accuracy after Fine-Tuning: 0.7968\n"
          ]
        }
      ]
    },
    {
      "cell_type": "markdown",
      "source": [
        "Train and test your CNN having a pre-trained MobileNet as backbone to classify images of the CIFAR-10 dataset. Discuss your results by comparing performance between transfer learning + fine tuning and only transfer learning."
      ],
      "metadata": {
        "id": "aOOUBuwPXalZ"
      }
    },
    {
      "cell_type": "code",
      "source": [
        "import tensorflow as tf\n",
        "from tensorflow.keras.applications import MobileNet\n",
        "from tensorflow.keras.layers import Dense, GlobalAveragePooling2D, Input\n",
        "from tensorflow.keras.models import Model\n",
        "from tensorflow.keras.optimizers import Adam\n",
        "from tensorflow.keras.datasets import cifar10\n",
        "from tensorflow.keras.utils import to_categorical\n",
        "from tensorflow.keras.applications.mobilenet import preprocess_input\n",
        "from tensorflow.image import resize\n",
        "(x_train, y_train), (x_test, y_test) = cifar10.load_data()\n",
        "x_train = tf.image.resize(x_train, (64, 64)).numpy()\n",
        "x_test = tf.image.resize(x_test, (64, 64)).numpy()\n",
        "num_classes = 10\n",
        "x_train = preprocess_input(x_train.astype('float32'))\n",
        "x_test = preprocess_input(x_test.astype('float32'))\n",
        "y_train = to_categorical(y_train, num_classes)\n",
        "y_test = to_categorical(y_test, num_classes)\n",
        "base_model = MobileNet(weights='imagenet', include_top=False, input_tensor=Input(shape=(64, 64, 3)))\n",
        "x = base_model.output\n",
        "x = GlobalAveragePooling2D()(x)\n",
        "x = Dense(1024, activation='relu')(x)\n",
        "outputs = Dense(num_classes, activation='softmax')(x)\n",
        "model = Model(inputs=base_model.input, outputs=outputs)\n",
        "for layer in base_model.layers:\n",
        "    layer.trainable = False\n",
        "model.compile(optimizer=Adam(learning_rate=0.001), loss='categorical_crossentropy', metrics=['accuracy'])\n",
        "history_transfer = model.fit(x_train, y_train, validation_data=(x_test, y_test), epochs=5, batch_size=16)\n",
        "transfer_results = model.evaluate(x_test, y_test)\n",
        "print(f\"Transfer Learning Test Accuracy: {transfer_results[1] * 100:.2f}%\")\n",
        "for layer in base_model.layers[-10:]:\n",
        "    layer.trainable = True\n",
        "model.compile(optimizer=Adam(learning_rate=0.0001), loss='categorical_crossentropy', metrics=['accuracy'])\n",
        "history_finetune = model.fit(x_train, y_train, validation_data=(x_test, y_test), epochs=10, batch_size=64)\n",
        "finetune_results = model.evaluate(x_test, y_test)\n",
        "print(f\"Fine-tuning Test Accuracy: {finetune_results[1] * 100:.2f}%\")"
      ],
      "metadata": {
        "colab": {
          "base_uri": "https://localhost:8080/"
        },
        "id": "ZUwCuOoGXbup",
        "outputId": "3297e8ee-1eab-4d6c-baf8-2f3e9123faf0"
      },
      "execution_count": null,
      "outputs": [
        {
          "metadata": {
            "tags": null
          },
          "name": "stderr",
          "output_type": "stream",
          "text": [
            "<ipython-input-7-31249bdb3a1a>:18: UserWarning: `input_shape` is undefined or non-square, or `rows` is not in [128, 160, 192, 224]. Weights for input shape (224, 224) will be loaded as the default.\n",
            "  base_model = MobileNet(weights='imagenet', include_top=False, input_tensor=Input(shape=(64, 64, 3)))\n"
          ]
        },
        {
          "output_type": "stream",
          "name": "stdout",
          "text": [
            "Epoch 1/5\n",
            "\u001b[1m3125/3125\u001b[0m \u001b[32m━━━━━━━━━━━━━━━━━━━━\u001b[0m\u001b[37m\u001b[0m \u001b[1m302s\u001b[0m 95ms/step - accuracy: 0.6742 - loss: 0.9877 - val_accuracy: 0.7414 - val_loss: 0.7524\n",
            "Epoch 2/5\n",
            "\u001b[1m3125/3125\u001b[0m \u001b[32m━━━━━━━━━━━━━━━━━━━━\u001b[0m\u001b[37m\u001b[0m \u001b[1m316s\u001b[0m 94ms/step - accuracy: 0.7952 - loss: 0.5876 - val_accuracy: 0.7403 - val_loss: 0.7834\n",
            "Epoch 3/5\n",
            "\u001b[1m3125/3125\u001b[0m \u001b[32m━━━━━━━━━━━━━━━━━━━━\u001b[0m\u001b[37m\u001b[0m \u001b[1m323s\u001b[0m 94ms/step - accuracy: 0.8660 - loss: 0.3803 - val_accuracy: 0.7355 - val_loss: 0.9204\n",
            "Epoch 4/5\n",
            "\u001b[1m3125/3125\u001b[0m \u001b[32m━━━━━━━━━━━━━━━━━━━━\u001b[0m\u001b[37m\u001b[0m \u001b[1m327s\u001b[0m 96ms/step - accuracy: 0.9292 - loss: 0.2115 - val_accuracy: 0.7342 - val_loss: 1.0364\n",
            "Epoch 5/5\n",
            "\u001b[1m3125/3125\u001b[0m \u001b[32m━━━━━━━━━━━━━━━━━━━━\u001b[0m\u001b[37m\u001b[0m \u001b[1m321s\u001b[0m 95ms/step - accuracy: 0.9600 - loss: 0.1222 - val_accuracy: 0.7364 - val_loss: 1.3175\n",
            "\u001b[1m313/313\u001b[0m \u001b[32m━━━━━━━━━━━━━━━━━━━━\u001b[0m\u001b[37m\u001b[0m \u001b[1m39s\u001b[0m 122ms/step - accuracy: 0.7330 - loss: 1.3387\n",
            "Transfer Learning Test Accuracy: 73.64%\n",
            "Epoch 1/10\n",
            "\u001b[1m782/782\u001b[0m \u001b[32m━━━━━━━━━━━━━━━━━━━━\u001b[0m\u001b[37m\u001b[0m \u001b[1m584s\u001b[0m 739ms/step - accuracy: 0.7908 - loss: 0.9688 - val_accuracy: 0.7422 - val_loss: 1.0539\n",
            "Epoch 2/10\n",
            "\u001b[1m782/782\u001b[0m \u001b[32m━━━━━━━━━━━━━━━━━━━━\u001b[0m\u001b[37m\u001b[0m \u001b[1m637s\u001b[0m 759ms/step - accuracy: 0.8960 - loss: 0.3041 - val_accuracy: 0.7603 - val_loss: 1.0106\n",
            "Epoch 3/10\n",
            "\u001b[1m782/782\u001b[0m \u001b[32m━━━━━━━━━━━━━━━━━━━━\u001b[0m\u001b[37m\u001b[0m \u001b[1m596s\u001b[0m 725ms/step - accuracy: 0.9336 - loss: 0.1899 - val_accuracy: 0.7671 - val_loss: 1.0384\n",
            "Epoch 4/10\n",
            "\u001b[1m782/782\u001b[0m \u001b[32m━━━━━━━━━━━━━━━━━━━━\u001b[0m\u001b[37m\u001b[0m \u001b[1m620s\u001b[0m 723ms/step - accuracy: 0.9485 - loss: 0.1483 - val_accuracy: 0.7805 - val_loss: 1.0551\n",
            "Epoch 5/10\n",
            "\u001b[1m782/782\u001b[0m \u001b[32m━━━━━━━━━━━━━━━━━━━━\u001b[0m\u001b[37m\u001b[0m \u001b[1m604s\u001b[0m 700ms/step - accuracy: 0.9656 - loss: 0.1042 - val_accuracy: 0.7758 - val_loss: 1.0772\n",
            "Epoch 6/10\n",
            "\u001b[1m782/782\u001b[0m \u001b[32m━━━━━━━━━━━━━━━━━━━━\u001b[0m\u001b[37m\u001b[0m \u001b[1m563s\u001b[0m 721ms/step - accuracy: 0.9697 - loss: 0.0930 - val_accuracy: 0.7765 - val_loss: 1.0982\n",
            "Epoch 7/10\n",
            "\u001b[1m782/782\u001b[0m \u001b[32m━━━━━━━━━━━━━━━━━━━━\u001b[0m\u001b[37m\u001b[0m \u001b[1m612s\u001b[0m 707ms/step - accuracy: 0.9742 - loss: 0.0770 - val_accuracy: 0.7824 - val_loss: 1.1113\n",
            "Epoch 8/10\n",
            "\u001b[1m782/782\u001b[0m \u001b[32m━━━━━━━━━━━━━━━━━━━━\u001b[0m\u001b[37m\u001b[0m \u001b[1m551s\u001b[0m 694ms/step - accuracy: 0.9774 - loss: 0.0672 - val_accuracy: 0.7831 - val_loss: 1.1137\n",
            "Epoch 9/10\n",
            "\u001b[1m782/782\u001b[0m \u001b[32m━━━━━━━━━━━━━━━━━━━━\u001b[0m\u001b[37m\u001b[0m \u001b[1m566s\u001b[0m 699ms/step - accuracy: 0.9803 - loss: 0.0586 - val_accuracy: 0.7814 - val_loss: 1.1622\n",
            "Epoch 10/10\n",
            "\u001b[1m782/782\u001b[0m \u001b[32m━━━━━━━━━━━━━━━━━━━━\u001b[0m\u001b[37m\u001b[0m \u001b[1m548s\u001b[0m 700ms/step - accuracy: 0.9802 - loss: 0.0600 - val_accuracy: 0.7896 - val_loss: 1.1417\n",
            "\u001b[1m313/313\u001b[0m \u001b[32m━━━━━━━━━━━━━━━━━━━━\u001b[0m\u001b[37m\u001b[0m \u001b[1m37s\u001b[0m 118ms/step - accuracy: 0.7880 - loss: 1.1637\n",
            "Fine-tuning Test Accuracy: 78.96%\n"
          ]
        }
      ]
    }
  ]
}